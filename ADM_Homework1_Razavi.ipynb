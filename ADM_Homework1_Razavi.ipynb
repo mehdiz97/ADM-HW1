{
 "cells": [
  {
   "cell_type": "markdown",
   "id": "6be0daf2",
   "metadata": {},
   "source": [
    "# Homework 1\n",
    "## Mohammad Mehdi Razavi\n",
    "### Matricola : 2023856\n",
    "### mohammadmehdirazavi97@gmail.com\n",
    "At the begining of each chunk of code there is a comment which is the name of problem in hackerrank."
   ]
  },
  {
   "cell_type": "markdown",
   "id": "36cc54e6",
   "metadata": {},
   "source": [
    "# Problem 1\n",
    "## Part 1:  Introduction \n"
   ]
  },
  {
   "cell_type": "code",
   "execution_count": 1,
   "id": "c27bebe4",
   "metadata": {},
   "outputs": [
    {
     "name": "stdout",
     "output_type": "stream",
     "text": [
      "Hello, World!\n"
     ]
    }
   ],
   "source": [
    "# 1.Say \"Hello, World!\" With Python\n",
    "\n",
    "print(\"Hello, World!\")"
   ]
  },
  {
   "cell_type": "code",
   "execution_count": 2,
   "id": "fc334fea",
   "metadata": {},
   "outputs": [
    {
     "name": "stdin",
     "output_type": "stream",
     "text": [
      " 26\n"
     ]
    },
    {
     "name": "stdout",
     "output_type": "stream",
     "text": [
      "Not Weird\n"
     ]
    }
   ],
   "source": [
    "# 2.Python If-Else\n",
    "\n",
    "import math\n",
    "import os\n",
    "import random\n",
    "import re\n",
    "import sys\n",
    "\n",
    "\n",
    "\n",
    "if __name__ == '__main__':\n",
    "    n = int(input().strip())\n",
    "if(n % 2 == 1):\n",
    "    print(\"Weird\")\n",
    "if(n % 2 == 0):\n",
    "    if(2<= n and n<=5):\n",
    "        print(\"Not Weird\")\n",
    "    elif(6 <= n and n <= 20):\n",
    "        print(\"Weird\")\n",
    "    elif(20 < n):\n",
    "        print(\"Not Weird\")"
   ]
  },
  {
   "cell_type": "code",
   "execution_count": 3,
   "id": "b22005e9",
   "metadata": {},
   "outputs": [
    {
     "name": "stdout",
     "output_type": "stream",
     "text": [
      "1\n",
      "2\n",
      "3\n",
      "-1\n",
      "2\n"
     ]
    }
   ],
   "source": [
    "# 3.Arithmetic Operators\n",
    "\n",
    "if __name__ == '__main__':\n",
    "    a = int(input())\n",
    "    b = int(input())\n",
    "    \n",
    "    print(a + b)\n",
    "    print(a - b)\n",
    "    print(a * b)"
   ]
  },
  {
   "cell_type": "code",
   "execution_count": 4,
   "id": "8aebe9df",
   "metadata": {},
   "outputs": [
    {
     "name": "stdout",
     "output_type": "stream",
     "text": [
      "1\n",
      "2\n",
      "0\n",
      "0.5\n"
     ]
    }
   ],
   "source": [
    "# 4.Python: Division\n",
    "\n",
    "if __name__ == '__main__':\n",
    "    a = int(input())\n",
    "    b = int(input())\n",
    "    print(a//b)\n",
    "    print(a/b)"
   ]
  },
  {
   "cell_type": "code",
   "execution_count": 5,
   "id": "25387e9b",
   "metadata": {},
   "outputs": [
    {
     "name": "stdout",
     "output_type": "stream",
     "text": [
      "3\n",
      "0\n",
      "1\n",
      "4\n"
     ]
    }
   ],
   "source": [
    "# 5.Loops\n",
    "\n",
    "if __name__ == '__main__':\n",
    "    n = int(input())\n",
    "    for i in range(0,n):\n",
    "        print(i**2)"
   ]
  },
  {
   "cell_type": "code",
   "execution_count": 7,
   "id": "a196c0bc",
   "metadata": {},
   "outputs": [
    {
     "name": "stdout",
     "output_type": "stream",
     "text": [
      "2000\n",
      "True\n"
     ]
    }
   ],
   "source": [
    "# 6.Write a function\n",
    "\n",
    "def is_leap(year):\n",
    "    leap = False\n",
    "    if(year % 4 == 0):\n",
    "        if(year % 100 != 0):\n",
    "            leap = True\n",
    "        else:\n",
    "            if(year % 400 == 0):\n",
    "                leap = True\n",
    "\n",
    "    return leap\n",
    "\n",
    "year = int(input())\n",
    "print(is_leap(year))"
   ]
  },
  {
   "cell_type": "code",
   "execution_count": 10,
   "id": "f478d725",
   "metadata": {},
   "outputs": [
    {
     "name": "stdout",
     "output_type": "stream",
     "text": [
      "4\n",
      "1234"
     ]
    }
   ],
   "source": [
    "# 7.Print Function\n",
    "\n",
    "if __name__ == '__main__':\n",
    "    n = int(input())\n",
    "    for i in range(0,n):\n",
    "        print(i+1, end=\"\")"
   ]
  },
  {
   "cell_type": "markdown",
   "id": "1f688d23",
   "metadata": {},
   "source": [
    "## Part 2 : Data Types"
   ]
  },
  {
   "cell_type": "code",
   "execution_count": 6,
   "id": "d1b1f0b3",
   "metadata": {},
   "outputs": [
    {
     "name": "stdout",
     "output_type": "stream",
     "text": [
      "12\n",
      "insert 0 5\n",
      "insert 1 10\n",
      "insert 0 6\n",
      "print\n",
      "[6, 5, 10]\n",
      "remove 6\n",
      "append 9\n",
      "append 1\n",
      "sort\n",
      "print\n",
      "[1, 5, 9, 10]\n",
      "pop\n",
      "reverse\n",
      "print\n",
      "[9, 5, 1]\n"
     ]
    }
   ],
   "source": [
    "# 1. Lists\n",
    "if __name__ == '__main__':\n",
    "    N = int(input())\n",
    "    data = []\n",
    "    for i in range(N):\n",
    "        cmnd = list(input().split())\n",
    "        \n",
    "        if cmnd[0] == 'insert':\n",
    "            data.insert(int(cmnd[1]), int(cmnd[2]))\n",
    "            \n",
    "        elif cmnd[0] == 'print':\n",
    "            print(data)\n",
    "            \n",
    "        elif cmnd[0] == 'remove':\n",
    "            data.remove(int(cmnd[1]))\n",
    "            \n",
    "        elif cmnd[0] == 'append':\n",
    "            data.append(int(cmnd[1]))\n",
    "                        \n",
    "        elif cmnd[0] == 'sort':\n",
    "            data.sort()\n",
    "                        \n",
    "        elif cmnd[0] == 'pop':\n",
    "            data.pop()\n",
    "                        \n",
    "        elif cmnd[0] == 'reverse':\n",
    "            data.reverse()\n",
    "        \n"
   ]
  },
  {
   "cell_type": "code",
   "execution_count": 7,
   "id": "d8e76761",
   "metadata": {},
   "outputs": [
    {
     "name": "stdout",
     "output_type": "stream",
     "text": [
      "1\n",
      "1\n",
      "1\n",
      "2\n",
      "[[0, 0, 0], [0, 0, 1], [0, 1, 0], [1, 0, 0], [1, 1, 1]]\n"
     ]
    }
   ],
   "source": [
    "# 2.List Comprehensions\n",
    "if __name__ == '__main__':\n",
    "    x = int(input())\n",
    "    y = int(input())\n",
    "    z = int(input())\n",
    "    n = int(input())\n",
    "    data = [[i,j,k] for i in range(x+1) for j in range(y+1) for k in range(z+1)]\n",
    "    ans = [data[i] for i in range(0,len(data)) if sum(data[i]) != n]\n",
    "    print(ans)"
   ]
  },
  {
   "cell_type": "code",
   "execution_count": 8,
   "id": "7030417d",
   "metadata": {},
   "outputs": [
    {
     "name": "stdout",
     "output_type": "stream",
     "text": [
      "5\n",
      "2 3 6 6 5\n",
      "5\n"
     ]
    }
   ],
   "source": [
    "# 3.Find the Runner-Up Score!\n",
    "\n",
    "if __name__ == '__main__':\n",
    "    n = int(input())\n",
    "    arr = list(map(int, input().split()))\n",
    "    ans = [x for x in arr if x != max(arr)]\n",
    "    print(max(ans))\n",
    "\n"
   ]
  },
  {
   "cell_type": "code",
   "execution_count": 9,
   "id": "3554f2ef",
   "metadata": {},
   "outputs": [
    {
     "name": "stdout",
     "output_type": "stream",
     "text": [
      "5\n",
      "Harry\n",
      "37.21\n",
      "Berry\n",
      "37.21\n",
      "Tina\n",
      "37.2\n",
      "Akriti\n",
      "41\n",
      "Harsh\n",
      "39\n",
      "Berry\n",
      "Harry\n"
     ]
    }
   ],
   "source": [
    "# 4.Nested Lists\n",
    "if __name__ == '__main__':\n",
    "    records_name = []\n",
    "    records_score = []\n",
    "    data = [[]]\n",
    "    for i in range(int(input())):\n",
    "        name = input()\n",
    "        score = float(input())\n",
    "        data.append([name, score])\n",
    "    data.remove(data[0])\n",
    "    \n",
    "    # find the minimum of input data\n",
    "    minimum = data[0]\n",
    "    for item in data:\n",
    "        if(item[1] < minimum[1]):\n",
    "            minimum = item\n",
    "            \n",
    "    #remove the minimum of the input data\n",
    "    ans = [x for x in data if x[1] != minimum[1]]\n",
    "    \n",
    "    # find the minimum score in the second data\n",
    "    minimum = ans[0]\n",
    "    for item in ans:\n",
    "        if(item[1] < minimum[1]):\n",
    "            minimum = item\n",
    "    \n",
    "    #extract the items with minimum score in the second data\n",
    "    ans = [x for x in ans if x[1] == minimum[1]]\n",
    "    \n",
    "    #extract just names\n",
    "    ans_name = [i[0] for i in ans]\n",
    "    \n",
    "    # print sorted names\n",
    "    for names in sorted(ans_name):\n",
    "        print(names)\n",
    "    "
   ]
  },
  {
   "cell_type": "code",
   "execution_count": 37,
   "id": "ad3f17bc",
   "metadata": {},
   "outputs": [
    {
     "name": "stdout",
     "output_type": "stream",
     "text": [
      "2\n",
      "Harsh 25 26.5 28\n",
      "Anurag 26 28 30\n",
      "Harsh\n",
      "26.50\n"
     ]
    }
   ],
   "source": [
    "# 5.Finding the percentage\n",
    "if __name__ == '__main__':\n",
    "    n = int(input())\n",
    "    student_marks = {}\n",
    "    for _ in range(n):\n",
    "        name, *line = input().split()\n",
    "        scores = list(map(float, line))\n",
    "        student_marks[name] = scores\n",
    "    query_name = input()\n",
    "    \n",
    "    # set 2 decimal point\n",
    "    format_float = \"{:.2f}\".format(sum(student_marks[query_name])/len(student_marks[query_name]))\n",
    "\n",
    "    print(format_float)"
   ]
  },
  {
   "cell_type": "code",
   "execution_count": 86,
   "id": "e9315f2b",
   "metadata": {},
   "outputs": [
    {
     "name": "stdout",
     "output_type": "stream",
     "text": [
      "50\n",
      "387 38 498 988 434 282 467 641 464 682 341 586 222 736 187 415 330 323 109 818 78 469 560 623 748 782 352 398 196 39 603 344 630 841 794 994 648 293 861 800 944 249 921 10 781 437 915 451 782 262\n",
      "[387, 38, 498, 988, 434, 282, 467, 641, 464, 682, 341, 586, 222, 736, 187, 415, 330, 323, 109, 818, 78, 469, 560, 623, 748, 782, 352, 398, 196, 39, 603, 344, 630, 841, 794, 994, 648, 293, 861, 800, 944, 249, 921, 10, 781, 437, 915, 451, 782, 262]\n",
      "(387, 38, 498, 988, 434, 282, 467, 641, 464, 682, 341, 586, 222, 736, 187, 415, 330, 323, 109, 818, 78, 469, 560, 623, 748, 782, 352, 398, 196, 39, 603, 344, 630, 841, 794, 994, 648, 293, 861, 800, 944, 249, 921, 10, 781, 437, 915, 451, 782, 262)\n",
      "-8100610261461401956\n"
     ]
    }
   ],
   "source": [
    "# 6.Tuples\n",
    "\n",
    "if __name__ == '__main__':\n",
    "    n = int(input())\n",
    "    integer_list = list(map(int, input().split()))\n",
    "    print(integer_list)\n",
    "    t = tuple(integer_list)\n",
    "    print(t)\n",
    "    print(hash(t))"
   ]
  },
  {
   "cell_type": "markdown",
   "id": "4ececdbc",
   "metadata": {},
   "source": [
    "## Part 3 : Strings"
   ]
  },
  {
   "cell_type": "code",
   "execution_count": 24,
   "id": "d41b0e50",
   "metadata": {},
   "outputs": [
    {
     "name": "stdout",
     "output_type": "stream",
     "text": [
      "HackerRank.com presents \"Pythonist 2\".\n",
      "hACKERrANK.COM PRESENTS \"pYTHONIST 2\".\n"
     ]
    }
   ],
   "source": [
    "# 1. sWAP cASE\n",
    "\n",
    "def swap_case(s):\n",
    "    out_str = \"\"\n",
    "    for char in s:\n",
    "        if char.isalpha():\n",
    "            \n",
    "            if char.islower():\n",
    "                char = char.upper()\n",
    "        \n",
    "            elif char.isupper():\n",
    "                char = char.lower()\n",
    "        \n",
    "            out_str += char\n",
    "        \n",
    "        elif char.isalpha() == False:\n",
    "            out_str += char\n",
    "        \n",
    "    return out_str\n",
    "\n",
    "if __name__ == '__main__':\n",
    "    text = input()\n",
    "    print(swap_case(text))\n"
   ]
  },
  {
   "cell_type": "code",
   "execution_count": null,
   "id": "0f033607",
   "metadata": {},
   "outputs": [],
   "source": [
    "# 2.String Split and Join\n",
    "\n",
    "def split_and_join(line):\n",
    "    # write your code here\n",
    "    line = line.split(\" \")\n",
    "    line = \"-\".join(line)\n",
    "    return line\n",
    "if __name__ == '__main__':\n",
    "    line = input()\n",
    "    result = split_and_join(line)\n",
    "    print(result)"
   ]
  },
  {
   "cell_type": "code",
   "execution_count": 10,
   "id": "0ec08991",
   "metadata": {},
   "outputs": [
    {
     "name": "stdout",
     "output_type": "stream",
     "text": [
      "mehdi\n",
      "razavi\n",
      "Hello mehdi razavi! You just delved into python.\n"
     ]
    }
   ],
   "source": [
    "# 3.What's Your Name?\n",
    "\n",
    "def print_full_name(first, last):\n",
    "    print(\"Hello \" + first + \" \" + last + \"! You just delved into python.\")\n",
    "if __name__ == '__main__':\n",
    "    first_name = input()\n",
    "    last_name = input()\n",
    "    print_full_name(first_name, last_name)"
   ]
  },
  {
   "cell_type": "code",
   "execution_count": 3,
   "id": "0993cce9",
   "metadata": {},
   "outputs": [
    {
     "name": "stdout",
     "output_type": "stream",
     "text": [
      "abracadabra\n",
      "5 k\n",
      "abrackdabra\n"
     ]
    }
   ],
   "source": [
    "# 4.Mutations\n",
    "\n",
    "def mutate_string(string, position, character):\n",
    "    l = list(string)\n",
    "    l[position] = character\n",
    "    string = ''.join(l)\n",
    "    return string\n",
    "\n",
    "if __name__ == '__main__':\n",
    "    s = input()\n",
    "    i, c = input().split()\n",
    "    s_new = mutate_string(s, int(i), c)\n",
    "    print(s_new)"
   ]
  },
  {
   "cell_type": "code",
   "execution_count": 15,
   "id": "cdb7c774",
   "metadata": {},
   "outputs": [
    {
     "name": "stdout",
     "output_type": "stream",
     "text": [
      "ABCDCDC\n",
      "CDC\n",
      "2\n"
     ]
    }
   ],
   "source": [
    "# 5.Find a string\n",
    "def count_substring(string, sub_string):\n",
    "    count = 0\n",
    "    for i in range(len(string)):\n",
    "        if string[i:i+len(sub_string)] == sub_string:\n",
    "            count += 1\n",
    "    return count\n",
    "\n",
    "if __name__ == '__main__':\n",
    "    string = input().strip()\n",
    "    sub_string = input().strip()\n",
    "    \n",
    "    count = count_substring(string, sub_string)\n",
    "    print(count)"
   ]
  },
  {
   "cell_type": "code",
   "execution_count": 18,
   "id": "d2f0ef79",
   "metadata": {},
   "outputs": [
    {
     "name": "stdout",
     "output_type": "stream",
     "text": [
      "qA2\n",
      "True\n",
      "True\n",
      "True\n",
      "True\n",
      "True\n"
     ]
    }
   ],
   "source": [
    "# 6.String Validators\n",
    "\n",
    "if __name__ == '__main__':\n",
    "    s = input()\n",
    "    \n",
    "    #isalnum\n",
    "    for char in s:\n",
    "        first = char.isalnum()\n",
    "        if(first):\n",
    "            print(True)\n",
    "            break\n",
    "    if(first == False):\n",
    "        print(False)\n",
    "    \n",
    "    #isalpha\n",
    "    for char in s:\n",
    "        second = char.isalpha()\n",
    "        if(second):\n",
    "            print(True)\n",
    "            break\n",
    "    if(second == False):\n",
    "        print(False)\n",
    "    \n",
    "    #isdigit\n",
    "    for char in s:\n",
    "        third = char.isdigit()\n",
    "        if(third):\n",
    "            print(True)\n",
    "            break\n",
    "    if(third == False):\n",
    "        print(False)\n",
    "    \n",
    "    #islower\n",
    "    for char in s:\n",
    "        fourth = char.islower()\n",
    "        if(fourth):\n",
    "            print(True)\n",
    "            break\n",
    "    if(fourth == False):\n",
    "        print(False)\n",
    "    \n",
    "    #isupper\n",
    "    for char in s:\n",
    "        fifth = char.isupper()\n",
    "        if(fifth):\n",
    "            print(True)\n",
    "            break\n",
    "    if(fifth == False):\n",
    "        print(False)"
   ]
  },
  {
   "cell_type": "code",
   "execution_count": 19,
   "id": "71a38097",
   "metadata": {},
   "outputs": [
    {
     "name": "stdout",
     "output_type": "stream",
     "text": [
      "5\n",
      "    H    \n",
      "   HHH   \n",
      "  HHHHH  \n",
      " HHHHHHH \n",
      "HHHHHHHHH\n",
      "  HHHHH               HHHHH             \n",
      "  HHHHH               HHHHH             \n",
      "  HHHHH               HHHHH             \n",
      "  HHHHH               HHHHH             \n",
      "  HHHHH               HHHHH             \n",
      "  HHHHH               HHHHH             \n",
      "  HHHHHHHHHHHHHHHHHHHHHHHHH   \n",
      "  HHHHHHHHHHHHHHHHHHHHHHHHH   \n",
      "  HHHHHHHHHHHHHHHHHHHHHHHHH   \n",
      "  HHHHH               HHHHH             \n",
      "  HHHHH               HHHHH             \n",
      "  HHHHH               HHHHH             \n",
      "  HHHHH               HHHHH             \n",
      "  HHHHH               HHHHH             \n",
      "  HHHHH               HHHHH             \n",
      "                    HHHHHHHHH \n",
      "                     HHHHHHH  \n",
      "                      HHHHH   \n",
      "                       HHH    \n",
      "                        H     \n"
     ]
    }
   ],
   "source": [
    "# 7. Text Alignment\n",
    "\n",
    "#Replace all ______ with rjust, ljust or center. \n",
    "\n",
    "thickness = int(input()) #This must be an odd number\n",
    "c = 'H'\n",
    "\n",
    "## Top Cone\n",
    "for i in range(thickness):\n",
    "    print((c*i).rjust(thickness-1)+c+(c*i).ljust(thickness-1))\n",
    "\n",
    "# Top Pillars\n",
    "for i in range(thickness+1):\n",
    "    print((c*thickness).center(thickness*2)+(c*thickness).center(thickness*6))\n",
    "\n",
    "# Middle Belt\n",
    "for i in range((thickness+1)//2):\n",
    "    print((c*thickness*5).center(thickness*6))\n",
    "\n",
    "# Bottom Pillars\n",
    "for i in range(thickness+1):\n",
    "    print((c*thickness).center(thickness*2)+(c*thickness).center(thickness*6))\n",
    "\n",
    "# Bottom Cone\n",
    "for i in range(thickness):\n",
    "    print(((c*(thickness-i-1)).rjust(thickness)+c+(c*(thickness-i-1)).ljust(thickness)).rjust(\n",
    "        thickness*6))"
   ]
  },
  {
   "cell_type": "code",
   "execution_count": 22,
   "id": "21cf1c54",
   "metadata": {},
   "outputs": [
    {
     "name": "stdout",
     "output_type": "stream",
     "text": [
      "ABCDEFGHIJKLIMNOQRSTUVWXYZ\n",
      "4\n",
      "ABCD\n",
      "EFGH\n",
      "IJKL\n",
      "IMNO\n",
      "QRST\n",
      "UVWX\n",
      "YZ\n",
      "\n"
     ]
    }
   ],
   "source": [
    "# 8.Text Wrap\n",
    "import textwrap\n",
    "\n",
    "def wrap(string, max_width):\n",
    "    wrapper = textwrap.TextWrapper(max_width)\n",
    "    word_list = wrapper.wrap(string)\n",
    "    result = \"\"\n",
    "    for word in word_list:\n",
    "        result = result+ word + \"\\n\"\n",
    "    return result\n",
    "\n",
    "if __name__ == '__main__':\n",
    "    string, max_width = input(), int(input())\n",
    "    result = wrap(string, max_width)\n",
    "    print(result)"
   ]
  },
  {
   "cell_type": "code",
   "execution_count": 23,
   "id": "55c275d5",
   "metadata": {},
   "outputs": [
    {
     "name": "stdout",
     "output_type": "stream",
     "text": [
      "5 15\n",
      "------.|.------\n",
      "---.|..|..|.---\n",
      "----WELCOME----\n",
      "---.|..|..|.---\n",
      "------.|.------\n"
     ]
    }
   ],
   "source": [
    "# 9.Designer Door Mat\n",
    "N, M = map(int, input().split())\n",
    "for i in range(1, N, 2):\n",
    "    print(((M - 3 * i) // 2) * '-' + (i * '.|.') + ((M - 3 * i) // 2) * '-')\n",
    "\n",
    "print(((M - 7) // 2) * '-' + 'WELCOME' + ((M - 7) // 2) * '-')\n",
    "\n",
    "for i in range(N - 2, -1, -2):\n",
    "    print(((M - 3 * i) // 2) * '-' + (i * '.|.') + ((M - 3 * i) // 2) * '-')"
   ]
  },
  {
   "cell_type": "code",
   "execution_count": 25,
   "id": "4605a2b6",
   "metadata": {},
   "outputs": [
    {
     "name": "stdout",
     "output_type": "stream",
     "text": [
      "17\n",
      "    1     1     1     1\n",
      "    2     2     2    10\n",
      "    3     3     3    11\n",
      "    4     4     4   100\n",
      "    5     5     5   101\n",
      "    6     6     6   110\n",
      "    7     7     7   111\n",
      "    8    10     8  1000\n",
      "    9    11     9  1001\n",
      "   10    12     A  1010\n",
      "   11    13     B  1011\n",
      "   12    14     C  1100\n",
      "   13    15     D  1101\n",
      "   14    16     E  1110\n",
      "   15    17     F  1111\n",
      "   16    20    10 10000\n",
      "   17    21    11 10001\n"
     ]
    }
   ],
   "source": [
    "# 10.String Formatting\n",
    "def print_formatted(number):\n",
    "    w = len(str(bin(number))[2:])\n",
    "    for i in range(1,number+1):\n",
    "        o = str(oct(i))[2:]\n",
    "        h = str(hex(i))[2:]\n",
    "        h = h.upper()\n",
    "        b = str(bin(i))[2:]\n",
    "        d = str(i)\n",
    "    #used this site for printing in the asked format\n",
    "    #https://www.kite.com/python/answers/how-to-print-a-string-at-a-fixed-width-in-python#:~:text=Use%20str.,aligns%20s%20to%20the%20right.&text=Use%20%22%7B0%3A_%3E5,with%20underscores%20instead%20of%20whitespace.\n",
    "        print('{:>{width}} {:>{width}} {:>{width}} {:>{width}}'.format(d,o,h,b,width=w))\n",
    "if __name__ == '__main__':\n",
    "    n = int(input())\n",
    "    print_formatted(n)"
   ]
  },
  {
   "cell_type": "code",
   "execution_count": 27,
   "id": "82d51600",
   "metadata": {},
   "outputs": [
    {
     "name": "stdout",
     "output_type": "stream",
     "text": [
      "5\n",
      "--------e--------\n",
      "------e-d-e------\n",
      "----e-d-c-d-e----\n",
      "--e-d-c-b-c-d-e--\n",
      "e-d-c-b-a-b-c-d-e\n",
      "--e-d-c-b-c-d-e--\n",
      "----e-d-c-d-e----\n",
      "------e-d-e------\n",
      "--------e--------\n"
     ]
    }
   ],
   "source": [
    "# 11.Alphabet Rangoli\n",
    "\n",
    "def print_rangoli(size):\n",
    "    w = (size-1) * 2 + ((size * 2) - 1)\n",
    "    for i in range(1,size):\n",
    "        number_of_letter = (i*2) - 1\n",
    "        s = ''\n",
    "        letter_value = 97 + size - 1\n",
    "        for i in range(0,number_of_letter):\n",
    "            if(i != 0):\n",
    "                s += '-' \n",
    "            s += chr(letter_value) \n",
    "            if(i<(number_of_letter-1) / 2):\n",
    "                letter_value = letter_value - 1\n",
    "            else:\n",
    "                letter_value = letter_value + 1            \n",
    "        print(s.center(w,'-'))\n",
    "    \n",
    "    for i in range(size,0,-1):\n",
    "        number_of_letter = (i*2) - 1\n",
    "        s = ''\n",
    "        letter_value = 97 + size - 1\n",
    "        for i in range(0,number_of_letter):\n",
    "            if(i != 0):\n",
    "                s += '-' \n",
    "            s += chr(letter_value) \n",
    "            if(i<(number_of_letter-1) / 2):\n",
    "                letter_value = letter_value - 1\n",
    "            else:\n",
    "                letter_value = letter_value + 1            \n",
    "        print(s.center(w,'-'))\n",
    "\n",
    "if __name__ == '__main__':\n",
    "    n = int(input())\n",
    "    print_rangoli(n)\n"
   ]
  },
  {
   "cell_type": "code",
   "execution_count": 47,
   "id": "858c295e",
   "metadata": {},
   "outputs": [
    {
     "name": "stdout",
     "output_type": "stream",
     "text": [
      "Chris Alan\n"
     ]
    }
   ],
   "source": [
    "# 12.Capitalize!\n",
    "\n",
    "import math\n",
    "import os\n",
    "import random\n",
    "import re\n",
    "import sys\n",
    "def solve(s):\n",
    "    s_new = s.split(' ')\n",
    "    result = []\n",
    "    for i in s_new:\n",
    "        result.append(i.capitalize())\n",
    "    return ' '.join(result)\n",
    "\n",
    "\n",
    "if __name__ == '__main__':\n",
    "    fptr = open(os.environ['OUTPUT_PATH'], 'w')\n",
    "\n",
    "    s = input()\n",
    "\n",
    "    result = solve(s)\n",
    "\n",
    "    fptr.write(result + '\\n')\n",
    "\n",
    "    fptr.close()\n"
   ]
  },
  {
   "cell_type": "code",
   "execution_count": 54,
   "id": "1620b3b1",
   "metadata": {},
   "outputs": [
    {
     "name": "stdout",
     "output_type": "stream",
     "text": [
      "BANANA\n",
      "Stuart 12\n"
     ]
    }
   ],
   "source": [
    "# 13. The Minion Game\n",
    "\n",
    "def minion_game(string):\n",
    "    kevin = 0\n",
    "    stuart = 0\n",
    "    vowels=\"AEIOU\"\n",
    "    for i in range(len(string)):\n",
    "        if string[i] in vowels:\n",
    "            kevin = kevin + len(string) - i\n",
    "        else:\n",
    "            stuart = stuart + len(string) - i    \n",
    "    \n",
    "    if kevin > stuart:\n",
    "        print(\"Kevin\",kevin)\n",
    "    elif kevin == stuart:\n",
    "        print(\"Draw\")    \n",
    "    else:\n",
    "        print(\"Stuart\",stuart)\n",
    "\n",
    "if __name__ == '__main__':\n",
    "    s = input()\n",
    "    minion_game(s)"
   ]
  },
  {
   "cell_type": "code",
   "execution_count": 58,
   "id": "67fee6fd",
   "metadata": {},
   "outputs": [
    {
     "name": "stdout",
     "output_type": "stream",
     "text": [
      "AABCAAADA\n",
      "3\n",
      "AB\n",
      "CA\n",
      "AD\n"
     ]
    }
   ],
   "source": [
    "# 14.Merge the Tools!\n",
    "\n",
    "def merge_the_tools(string, k):\n",
    "    data = []\n",
    "    for i in range(0, len(string), k):\n",
    "        data.append(string[i : i + k])\n",
    "    for sub in data:\n",
    "        print(\"\".join(dict.fromkeys(sub)))\n",
    "\n",
    "\n",
    "\n",
    "\n",
    "if __name__ == '__main__':\n",
    "    string, k = input(), int(input())\n",
    "    merge_the_tools(string, k)"
   ]
  },
  {
   "cell_type": "markdown",
   "id": "7769c260",
   "metadata": {},
   "source": [
    "## Part 4 : Sets"
   ]
  },
  {
   "cell_type": "code",
   "execution_count": 70,
   "id": "3ff7db89",
   "metadata": {},
   "outputs": [
    {
     "name": "stdout",
     "output_type": "stream",
     "text": [
      "10\n",
      "161 182 161 154 176 170 167 171 170 174\n",
      "169.375\n"
     ]
    }
   ],
   "source": [
    "# 1.Introduction to Sets\n",
    "\n",
    "def average(array):\n",
    "    data = set(array)\n",
    "    return round((sum(data)/len(data)), 3)\n",
    "\n",
    "if __name__ == '__main__':\n",
    "    n = int(input())\n",
    "    arr = list(map(int, input().split()))\n",
    "    result = average(arr)\n",
    "    print(result)"
   ]
  },
  {
   "cell_type": "code",
   "execution_count": 88,
   "id": "3a3c8130",
   "metadata": {},
   "outputs": [
    {
     "name": "stdout",
     "output_type": "stream",
     "text": [
      "3 2\n",
      "1 5 3\n",
      "3 1\n",
      "5 7\n",
      "1\n"
     ]
    }
   ],
   "source": [
    "# 2.No Idea!\n",
    "\n",
    "from collections import Counter\n",
    "n, m = map(int, input().split())\n",
    "check_data = list(map(int,input().split()))\n",
    "check_data1 = set(check_data)\n",
    "check_data_counter = Counter(check_data)\n",
    "A = set(map(int,input().split()))\n",
    "B = set(map(int,input().split()))\n",
    "intersect_a = list(check_data1 & A)\n",
    "intersect_b = list(check_data1 & B)\n",
    "result = 0\n",
    "for element in intersect_a:\n",
    "    result += check_data_counter[element]\n",
    "for element in intersect_b:\n",
    "    result -= check_data_counter[element]\n",
    "print(result)"
   ]
  },
  {
   "cell_type": "code",
   "execution_count": 92,
   "id": "e5950bce",
   "metadata": {},
   "outputs": [
    {
     "name": "stdout",
     "output_type": "stream",
     "text": [
      "4\n",
      "2 4 5 9\n",
      "4 \n",
      "2 4 7 0\n",
      "0\n",
      "5\n",
      "7\n",
      "9\n"
     ]
    }
   ],
   "source": [
    "# 3.Symmetric Difference\n",
    "\n",
    "n = int(input())\n",
    "a = set(map(int,input().split()))\n",
    "m = int(input())\n",
    "b = set(map(int,input().split()))\n",
    "ans = (a.difference(b)).union(b.difference(a))\n",
    "ans = sorted(ans)\n",
    "for item in ans:\n",
    "    print(item)"
   ]
  },
  {
   "cell_type": "code",
   "execution_count": 94,
   "id": "f3f48220",
   "metadata": {},
   "outputs": [
    {
     "name": "stdout",
     "output_type": "stream",
     "text": [
      "4\n",
      "a\n",
      "a\n",
      "b\n",
      "c\n",
      "3\n"
     ]
    }
   ],
   "source": [
    "# 4.Set .add()\n",
    "\n",
    "n = int(input())\n",
    "country = set()\n",
    "for i in range(n):\n",
    "    country.add(input())\n",
    "print(len(country))"
   ]
  },
  {
   "cell_type": "code",
   "execution_count": 95,
   "id": "fc2f2913",
   "metadata": {},
   "outputs": [
    {
     "name": "stdout",
     "output_type": "stream",
     "text": [
      "9\n",
      "1 2 3 4 5 6 7 8 9\n",
      "10\n",
      "pop\n",
      "remove 9\n",
      "discard 9\n",
      "discard 8\n",
      "remove 7\n",
      "pop\n",
      "discard 6\n",
      "remove 5\n",
      "pop\n",
      "discard 5\n",
      "4\n"
     ]
    }
   ],
   "source": [
    "# 5.Set .discard(), .remove() & .pop()\n",
    "n = int(input())\n",
    "numbers = set(map(int, input().split()))\n",
    "n_cmnd = int(input())\n",
    "for i in range(n_cmnd):\n",
    "    cmnd = list(input().split())\n",
    "    if cmnd[0] == 'pop':\n",
    "        numbers.pop()\n",
    "    elif cmnd[0] == 'discard':\n",
    "        numbers.discard(int(cmnd[1]))\n",
    "    elif cmnd[0] == 'remove':\n",
    "        numbers.remove(int(cmnd[1]))\n",
    "print(sum(numbers))"
   ]
  },
  {
   "cell_type": "code",
   "execution_count": 102,
   "id": "232bad6f",
   "metadata": {},
   "outputs": [
    {
     "name": "stdout",
     "output_type": "stream",
     "text": [
      "9\n",
      "1 2 3 4 5 6 7 8 9\n",
      "9\n",
      "10 1 2 3 11 21 55 6 8\n",
      "13\n"
     ]
    }
   ],
   "source": [
    "# 6.Set .union() Operation\n",
    "a = int(input())\n",
    "a_students = set(map(int, input().split()))\n",
    "b = int(input())\n",
    "b_students = set(map(int, input().split()))\n",
    "ans = a_students.union(b_students)\n",
    "print(len(ans))"
   ]
  },
  {
   "cell_type": "code",
   "execution_count": 103,
   "id": "a3d249df",
   "metadata": {},
   "outputs": [
    {
     "name": "stdout",
     "output_type": "stream",
     "text": [
      "9\n",
      "1 2 3 4 5 6 7 8 9\n",
      "9\n",
      "10 1 2 3 11 21 55 6 8\n",
      "5\n"
     ]
    }
   ],
   "source": [
    "# 7.Set .intersection() Operation\n",
    "a = int(input())\n",
    "a_students = set(map(int, input().split()))\n",
    "b = int(input())\n",
    "b_students = set(map(int, input().split()))\n",
    "ans = a_students.intersection(b_students)\n",
    "print(len(ans))\n"
   ]
  },
  {
   "cell_type": "code",
   "execution_count": 1,
   "id": "c1c481c9",
   "metadata": {},
   "outputs": [
    {
     "name": "stdout",
     "output_type": "stream",
     "text": [
      "9\n",
      "1 2 3 4 5 6 7 8 9\n",
      "9\n",
      "10 1 2 3 11 21 55 6 8\n",
      "4\n"
     ]
    }
   ],
   "source": [
    "# 8.Set .difference() Operation\n",
    "a = int(input())\n",
    "a_students = set(map(int, input().split()))\n",
    "b = int(input())\n",
    "b_students = set(map(int, input().split()))\n",
    "ans = a_students.difference(b_students)\n",
    "print(len(ans))\n"
   ]
  },
  {
   "cell_type": "code",
   "execution_count": 2,
   "id": "cbd14e00",
   "metadata": {},
   "outputs": [
    {
     "name": "stdout",
     "output_type": "stream",
     "text": [
      "9\n",
      "1 2 3 4 5 6 7 8 9\n",
      "9\n",
      "10 1 2 3 11 21 55 6 8\n",
      "8\n"
     ]
    }
   ],
   "source": [
    "# 9.Set .symmetric_difference() Operation\n",
    "a = int(input())\n",
    "a_students = set(map(int, input().split()))\n",
    "b = int(input())\n",
    "b_students = set(map(int, input().split()))\n",
    "ans = a_students.symmetric_difference(b_students)\n",
    "print(len(ans))"
   ]
  },
  {
   "cell_type": "code",
   "execution_count": 5,
   "id": "a9be0503",
   "metadata": {},
   "outputs": [
    {
     "name": "stdout",
     "output_type": "stream",
     "text": [
      "16\n",
      "1 2 3 4 5 6 7 8 9 10 11 12 13 14 24 52\n",
      "4\n",
      "intersection_update 10\n",
      "2 3 5 6 8 9 1 4 7 11\n",
      "update 2\n",
      "55 66\n",
      "symmetric_difference_update 5\n",
      "22 7 35 62 58\n",
      "difference_update 7\n",
      "11 22 35 55 58 62 66\n",
      "38\n"
     ]
    }
   ],
   "source": [
    "# 10.Set Mutations\n",
    "\n",
    "a = int(input())\n",
    "A = set(map(int, input().split()))\n",
    "n = int(input())\n",
    "for i in range(n):\n",
    "    cmnd = list(input().split())\n",
    "    new_set = set(map(int, input().split()))\n",
    "    if cmnd[0] == 'intersection_update':\n",
    "        A.intersection_update(new_set)\n",
    "    elif cmnd[0] == 'update':\n",
    "        A.update(new_set)\n",
    "    elif cmnd[0] == 'symmetric_difference_update':\n",
    "        A.symmetric_difference_update(new_set)\n",
    "    elif cmnd[0] == 'difference_update':\n",
    "        A.difference_update(new_set)\n",
    "print(sum(A))"
   ]
  },
  {
   "cell_type": "code",
   "execution_count": 4,
   "id": "1d63edf2",
   "metadata": {},
   "outputs": [
    {
     "name": "stdout",
     "output_type": "stream",
     "text": [
      "5\n",
      "1 2 3 6 5 4 4 2 5 3 6 1 6 5 3 2 4 1 2 5 1 4 3 6 8 4 3 1 5 6 2\n",
      "8\n"
     ]
    }
   ],
   "source": [
    "# 11.The Captain's Room\n",
    "\n",
    "k = int(input())\n",
    "rooms = list(map(int, input().split()))\n",
    "rooms_set = set(rooms)\n",
    "rooms_sum = sum(rooms)\n",
    "rooms_set_sum = sum(rooms_set) * k\n",
    "for number in rooms_set:\n",
    "    # all numbers repeated K times except captains room so if we calculate the difference, captains room must repeated k - 1 times\n",
    "    if rooms_set_sum - rooms_sum == (k - 1) * number:\n",
    "        print(number)\n",
    "        break"
   ]
  },
  {
   "cell_type": "code",
   "execution_count": 11,
   "id": "5598ca0c",
   "metadata": {},
   "outputs": [
    {
     "name": "stdout",
     "output_type": "stream",
     "text": [
      "3\n",
      "5\n",
      "1 2 3 5 6\n",
      "9\n",
      "9 8 5 6 3 2 1 4 7\n",
      "True\n",
      "1\n",
      "2\n",
      "5\n",
      "3 6 5 4 1\n",
      "False\n",
      "7\n",
      "1 2 3 5 6 8 9\n",
      "3\n",
      "9 8 2\n",
      "False\n"
     ]
    }
   ],
   "source": [
    "# 12.Check Subset\n",
    "n = int(input())\n",
    "for i in range(n):\n",
    "    a_number = int(input())\n",
    "    a = set(map(int, input().split()))\n",
    "    b_number = int(input())\n",
    "    b = set(map(int, input().split()))\n",
    "    if a.difference(b) == set():\n",
    "        print(True)\n",
    "    else:\n",
    "        print(False)"
   ]
  },
  {
   "cell_type": "code",
   "execution_count": 12,
   "id": "59881d2e",
   "metadata": {},
   "outputs": [
    {
     "name": "stdout",
     "output_type": "stream",
     "text": [
      "1 2 3 4 5 6 7 8 9 10 11 12 23 45 84 78\n",
      "2\n",
      "1 2 3 4 5\n",
      "100 11 12\n",
      "False\n"
     ]
    }
   ],
   "source": [
    "# 13.Check Strict Superset\n",
    "A = set(map(int, input().split()))\n",
    "n = int(input())\n",
    "ans = True\n",
    "for i in range(n):\n",
    "    other_set = set(map(int, input().split()))\n",
    "    if A.difference(other_set) == set() or other_set.difference(A) != set():\n",
    "        ans = False\n",
    "        break\n",
    "print(ans)    "
   ]
  },
  {
   "cell_type": "markdown",
   "id": "74ae4c41",
   "metadata": {},
   "source": [
    "## Part 5 : Collections"
   ]
  },
  {
   "cell_type": "code",
   "execution_count": 2,
   "id": "0025f89b",
   "metadata": {},
   "outputs": [
    {
     "name": "stdout",
     "output_type": "stream",
     "text": [
      "10\n",
      "2 3 4 5 6 8 7 6 5 18\n",
      "6\n",
      "6 55\n",
      "6 45\n",
      "6 55\n",
      "4 40\n",
      "18 60\n",
      "10 50\n",
      "200\n"
     ]
    }
   ],
   "source": [
    "# 1.collections.Counter()\n",
    "\n",
    "number_shoes = int(input())\n",
    "size = list(map(int, input().split()))\n",
    "costumers = int(input())\n",
    "income = 0\n",
    "for i in range(costumers):\n",
    "    price = list(map(int, input().split()))\n",
    "    if price[0] in size:\n",
    "        income += int(price[1])\n",
    "        size.remove(price[0])\n",
    "print(income)\n",
    "    \n",
    "\n"
   ]
  },
  {
   "cell_type": "code",
   "execution_count": 25,
   "id": "a7c57f34",
   "metadata": {},
   "outputs": [
    {
     "name": "stdout",
     "output_type": "stream",
     "text": [
      "5 2\n",
      "a\n",
      "a\n",
      "b\n",
      "a\n",
      "b\n",
      "a\n",
      "1 2 4 \n",
      "b\n",
      "3 5 \n"
     ]
    }
   ],
   "source": [
    "##### 2. DefaultDict Tutorial\n",
    "\n",
    "from collections import defaultdict\n",
    "n , m = map(int, input().split())\n",
    "positions = defaultdict(list)\n",
    "for i in range(n):\n",
    "    A = input()\n",
    "    positions[A].append(i + 1)\n",
    "for i in range(m):\n",
    "    B = input()\n",
    "    if(positions[B] == []):\n",
    "        print(-1)\n",
    "    else:\n",
    "        for pos in positions[B]:\n",
    "            print(pos, end=\" \")\n",
    "        print()   \n",
    "    \n",
    "\n"
   ]
  },
  {
   "cell_type": "code",
   "execution_count": 33,
   "id": "ad9e3cdc",
   "metadata": {},
   "outputs": [
    {
     "name": "stdout",
     "output_type": "stream",
     "text": [
      "5\n",
      "ID MARKS NAME CLASS\n",
      "1 97 ray 7\n",
      "2 50 stev 4\n",
      "3 91 adr 9\n",
      "4 72 stew 5\n",
      "5 80 peter 6\n",
      "78.0\n"
     ]
    }
   ],
   "source": [
    "# 3.collections.namedtuple()\n",
    "\n",
    "from collections import namedtuple\n",
    "number = int(input())\n",
    "labels = list(input().split())\n",
    "marks = labels.index(\"MARKS\")\n",
    "sum_marks = 0\n",
    "for i in range(number):\n",
    "    data = list(input().split())\n",
    "    sum_marks += float(data[marks])\n",
    "print(sum_marks/number)\n",
    "    \n"
   ]
  },
  {
   "cell_type": "code",
   "execution_count": 37,
   "id": "6c03e151",
   "metadata": {},
   "outputs": [
    {
     "name": "stdout",
     "output_type": "stream",
     "text": [
      "9\n",
      "BANANA FRIES 12\n",
      "POTATO CHIPS 30\n",
      "APPLE JUICE 10\n",
      "CANDY 5\n",
      "APPLE JUICE 10\n",
      "CANDY 5\n",
      "CANDY 5\n",
      "CANDY 5\n",
      "POTATO CHIPS 30\n",
      "BANANA FRIES 12\n",
      "POTATO CHIPS 60\n",
      "APPLE JUICE 20\n",
      "CANDY 20\n"
     ]
    }
   ],
   "source": [
    "# 4.Collections.OrderedDict()\n",
    "\n",
    "import collections, re\n",
    "number = int(input())\n",
    "items = collections.OrderedDict()\n",
    "for i in range(number):\n",
    "    orders = re.split(r'(\\d+)$',input().strip())\n",
    "    name = orders[0]\n",
    "    price = int(orders[1])\n",
    "    if name not in items:\n",
    "        items[name] = price\n",
    "    else:\n",
    "        items[name] = items[name] + price\n",
    "            \n",
    "for i in items:\n",
    "    print(i + str(items[i]))\n"
   ]
  },
  {
   "cell_type": "code",
   "execution_count": 41,
   "id": "29dadf37",
   "metadata": {},
   "outputs": [
    {
     "name": "stdout",
     "output_type": "stream",
     "text": [
      "4\n",
      "bcdef\n",
      "abcdefg\n",
      "bcde\n",
      "bcdef\n",
      "3\n",
      "2 1 1 "
     ]
    }
   ],
   "source": [
    "# 5.Word Order\n",
    "import collections\n",
    "n = int(input())\n",
    "words = collections.OrderedDict()\n",
    "for i in range(n):\n",
    "    word = input()\n",
    "    if word in words:\n",
    "        words[word] += 1\n",
    "    else:\n",
    "        words[word] = 0\n",
    "\n",
    "    \n",
    "print(len(words))\n",
    "for item in words:\n",
    "    print(words[item]+1, end = \" \")"
   ]
  },
  {
   "cell_type": "code",
   "execution_count": 43,
   "id": "de7865d4",
   "metadata": {},
   "outputs": [
    {
     "name": "stdout",
     "output_type": "stream",
     "text": [
      "6\n",
      "append 1\n",
      "append 2\n",
      "append 3\n",
      "appendleft 4\n",
      "pop\n",
      "popleft\n",
      "1 2 "
     ]
    }
   ],
   "source": [
    "# 6.collections.deque()\n",
    "\n",
    "from collections import deque\n",
    "d = deque()\n",
    "n = int(input())\n",
    "for i in range(n):\n",
    "    cmnd = list(input().split())\n",
    "    if cmnd[0] == 'append':\n",
    "        d.append(int(cmnd[1]))\n",
    "    elif cmnd[0] == 'appendleft':\n",
    "        d.appendleft(int(cmnd[1]))\n",
    "    elif cmnd[0] == 'pop':\n",
    "        d.pop()\n",
    "    elif cmnd[0] == 'popleft':\n",
    "        d.popleft()\n",
    "for item in d:\n",
    "    print(item , end = \" \")"
   ]
  },
  {
   "cell_type": "code",
   "execution_count": 50,
   "id": "b82f3ee8",
   "metadata": {},
   "outputs": [
    {
     "name": "stdout",
     "output_type": "stream",
     "text": [
      "1\n",
      "3\n",
      "427731488 922935208 973233245\n",
      "Yes\n"
     ]
    }
   ],
   "source": [
    "# 7.Piling Up!\n",
    "from collections import deque\n",
    "number = int(input())\n",
    "for t in range(number):\n",
    "    size = int(input())\n",
    "    dq = deque(map(int,input().split()))\n",
    "    possible = True\n",
    "    maximum = (2**31)+1\n",
    "\n",
    "    while dq:\n",
    "\n",
    "        left = dq[0]\n",
    "        right = dq[-1]\n",
    "        if left >= right and maximum >= left:\n",
    "            maximum = dq.popleft()\n",
    "        elif right >= left and maximum >= right:\n",
    "            maximum = dq.pop()\n",
    "        else:\n",
    "            possible = False\n",
    "            break\n",
    "    if possible:\n",
    "        print('Yes')\n",
    "    else:\n",
    "        print('No')   \n",
    "\n"
   ]
  },
  {
   "cell_type": "code",
   "execution_count": 81,
   "id": "cbf202f0",
   "metadata": {},
   "outputs": [
    {
     "name": "stdout",
     "output_type": "stream",
     "text": [
      "aabbbccde\n",
      "b 3\n",
      "a 2\n",
      "c 2\n"
     ]
    }
   ],
   "source": [
    "# 8.Company Logo\n",
    "from collections import Counter\n",
    "\n",
    "data = sorted(input().strip())\n",
    "data = Counter(data).most_common()\n",
    "data = sorted(data,key = lambda x: (x[1] * -1,x[0]))\n",
    "for i in range(3):\n",
    "    print(data[i][0],data[i][1])\n"
   ]
  },
  {
   "cell_type": "markdown",
   "id": "c96273f4",
   "metadata": {},
   "source": [
    "## Part 6 : Date and Time"
   ]
  },
  {
   "cell_type": "code",
   "execution_count": 82,
   "id": "63bbe14d",
   "metadata": {},
   "outputs": [
    {
     "name": "stdout",
     "output_type": "stream",
     "text": [
      "08 05 2015\n",
      "WEDNESDAY\n"
     ]
    }
   ],
   "source": [
    "# 1.Calendar Module\n",
    "\n",
    "import datetime\n",
    "import calendar\n",
    "m,d,y=map(int,input().split())\n",
    "input_date = datetime.date(y,m,d)\n",
    "print(calendar.day_name[input_date.weekday()].upper())"
   ]
  },
  {
   "cell_type": "code",
   "execution_count": 83,
   "id": "9b4fe24c",
   "metadata": {},
   "outputs": [
    {
     "name": "stdout",
     "output_type": "stream",
     "text": [
      "2\n",
      "Sun 10 May 2015 13:54:36 -0700\n",
      "Sun 10 May 2015 13:54:36 -0000\n",
      "25200\n",
      "Sat 02 May 2015 19:54:36 +0530\n",
      "Fri 01 May 2015 13:54:36 -0000\n",
      "88200\n"
     ]
    }
   ],
   "source": [
    "# 2.Time Delta\n",
    "import math\n",
    "import os\n",
    "import random\n",
    "import re\n",
    "import sys\n",
    "import datetime\n",
    "def time_delta(t1, t2):\n",
    "    time_format = \"%a %d %b %Y %H:%M:%S %z\"\n",
    "    second1 = datetime.datetime.strptime(t1,time_format)\n",
    "    second2 = datetime.datetime.strptime(t2,time_format)\n",
    "    return str(int(abs((second1-second2).total_seconds())))\n",
    "if __name__ == '__main__':\n",
    "    fptr = open(os.environ['OUTPUT_PATH'], 'w')\n",
    "\n",
    "    t = int(input())\n",
    "\n",
    "    for t_itr in range(t):\n",
    "        t1 = input()\n",
    "\n",
    "        t2 = input()\n",
    "\n",
    "        delta = time_delta(t1, t2)\n",
    "\n",
    "        fptr.write(delta + '\\n')\n",
    "\n",
    "    fptr.close()\n"
   ]
  },
  {
   "cell_type": "markdown",
   "id": "a56b8ff9",
   "metadata": {},
   "source": [
    "## Part 7 : Exceptions"
   ]
  },
  {
   "cell_type": "code",
   "execution_count": 89,
   "id": "64c33aa6",
   "metadata": {},
   "outputs": [
    {
     "name": "stdout",
     "output_type": "stream",
     "text": [
      "3\n",
      "1 0\n",
      "Error Code: integer division or modulo by zero\n",
      "2 $\n",
      "Error Code: invalid literal for int() with base 10: '$'\n",
      "3 1\n",
      "3\n"
     ]
    }
   ],
   "source": [
    "# 1.Exceptions\n",
    "n = int(input())\n",
    "for i in range(n):\n",
    "    m, n = input().split()\n",
    "    try:\n",
    "        print(int(m) // int(n))\n",
    "    except Exception as e:\n",
    "        print(\"Error Code:\",e)\n"
   ]
  },
  {
   "cell_type": "code",
   "execution_count": 90,
   "id": "ec1ae172",
   "metadata": {},
   "outputs": [
    {
     "name": "stdout",
     "output_type": "stream",
     "text": [
      "2\n",
      ".*\\+\n",
      "True\n",
      ".*+\n",
      "False\n"
     ]
    }
   ],
   "source": [
    "# 2.Incorrect Regex\n",
    "# used this link https://stackoverflow.com/questions/19630994/how-to-check-if-a-string-is-a-valid-regex-in-python'''\n",
    "\n",
    "import re\n",
    "n = int(input())\n",
    "for i in range(n):\n",
    "    regex = input()\n",
    "    try:\n",
    "        re.compile(regex)\n",
    "        print(True)\n",
    "    except Exception as e:\n",
    "        print(False)\n"
   ]
  },
  {
   "cell_type": "markdown",
   "id": "033247c8",
   "metadata": {},
   "source": [
    "## Part 8 : Built-ins"
   ]
  },
  {
   "cell_type": "code",
   "execution_count": 15,
   "id": "2a9c91cc",
   "metadata": {},
   "outputs": [
    {
     "name": "stdout",
     "output_type": "stream",
     "text": [
      "5 3\n",
      "89 90 78 93 80\n",
      "90 91 85 88 86  \n",
      "91 92 83 89 90.5\n",
      "90.0\n",
      "91.0\n",
      "82.0\n",
      "90.0\n",
      "85.5\n"
     ]
    }
   ],
   "source": [
    "# 1.Zipped!\n",
    "\n",
    "students, subj = map(int, input().split())\n",
    "data = [0 for i in range(students)]\n",
    "for i in range(subj):\n",
    "    scores = list(map(float, input().split()))\n",
    "    for j in range(students):\n",
    "        data[j] += scores[j]\n",
    "for i in range(students):\n",
    "    print(data[i] / subj)\n",
    "    \n",
    "\n",
    "    "
   ]
  },
  {
   "cell_type": "code",
   "execution_count": null,
   "id": "52287ff2",
   "metadata": {},
   "outputs": [],
   "source": [
    "# 2.Athlete Sort\n",
    "import math\n",
    "import os\n",
    "import random\n",
    "import re\n",
    "import sys\n",
    "\n",
    "\n",
    "if __name__ == '__main__':\n",
    "    nm = input().split()\n",
    "\n",
    "    n = int(nm[0])\n",
    "\n",
    "    m = int(nm[1])\n",
    "\n",
    "    arr = []\n",
    "    for arr_i in range(n):\n",
    "       temp = [int(arr_temp) for arr_temp in input().strip().split(' ')]\n",
    "       arr.append(temp)\n",
    "    k = int(input().strip())\n",
    "    \n",
    "    sorted_arr = sorted(arr, key = lambda x : x[k])\n",
    "    for row in sorted_arr:\n",
    "        print(' '.join(str(y) for y in row))"
   ]
  },
  {
   "cell_type": "code",
   "execution_count": 16,
   "id": "8580e568",
   "metadata": {},
   "outputs": [
    {
     "name": "stdout",
     "output_type": "stream",
     "text": [
      "Sorting1234\n",
      "ginortS1324\n"
     ]
    }
   ],
   "source": [
    "# 3.ginortS\n",
    "s = input()\n",
    "s = sorted(s,key = lambda x:(x.isdigit() and int(x)%2==0, x.isdigit(),x.isupper(),x.islower(),x))\n",
    "print(*(s),sep = '')\n",
    "\n"
   ]
  },
  {
   "cell_type": "markdown",
   "id": "603bb772",
   "metadata": {},
   "source": [
    "## Part 9 : Python Functionals"
   ]
  },
  {
   "cell_type": "code",
   "execution_count": 25,
   "id": "b8b4f093",
   "metadata": {},
   "outputs": [
    {
     "name": "stdout",
     "output_type": "stream",
     "text": [
      "1\n",
      "[0, 1]\n"
     ]
    }
   ],
   "source": [
    "# 1.Map and Lambda Function\n",
    "cube = lambda x:x**3 # complete the lambda function \n",
    "\n",
    "def fibonacci(n):\n",
    "    # return a list of fibonacci numbers\n",
    "    if n == 0:\n",
    "        return []\n",
    "    elif n == 1:\n",
    "        return [0]\n",
    "    else:\n",
    "        fib = [0,1]\n",
    "        for i in range(2,n):\n",
    "            fib.append(fib[i-1]+fib[i-2])\n",
    "        return fib\n",
    "\n",
    "if __name__ == '__main__':\n",
    "    n = int(input())\n",
    "    print(list(map(cube, fibonacci(n))))"
   ]
  },
  {
   "cell_type": "markdown",
   "id": "b068955d",
   "metadata": {},
   "source": [
    "## Part 10 : Regex and Parsing challenges"
   ]
  },
  {
   "cell_type": "code",
   "execution_count": 29,
   "id": "a9d126a8",
   "metadata": {},
   "outputs": [
    {
     "name": "stdout",
     "output_type": "stream",
     "text": [
      "1\n",
      "0.5.0\n",
      "False\n"
     ]
    }
   ],
   "source": [
    "# 1.Detect Floating Point Number\n",
    "import re\n",
    "n = int(input())\n",
    "for i in range(n):\n",
    "    number = input()\n",
    "    print(bool(re.search(r\"^[-+]?\\d*\\.\\d+$\", number)))"
   ]
  },
  {
   "cell_type": "code",
   "execution_count": 30,
   "id": "7340f23c",
   "metadata": {},
   "outputs": [
    {
     "name": "stdout",
     "output_type": "stream",
     "text": [
      "100,000,000.000\n",
      "100\n",
      "000\n",
      "000\n",
      "000\n"
     ]
    }
   ],
   "source": [
    "# 2.Re.split()\n",
    "regex_pattern = r\"[.,]+\"    # Do not delete 'r'.\n",
    "import re\n",
    "print(\"\\n\".join(re.split(regex_pattern, input())))"
   ]
  },
  {
   "cell_type": "code",
   "execution_count": 32,
   "id": "5f2e7042",
   "metadata": {},
   "outputs": [
    {
     "name": "stdout",
     "output_type": "stream",
     "text": [
      "..12345678910111213141516171820212223\n",
      "1\n"
     ]
    }
   ],
   "source": [
    "# 3.Group(), Groups() & Groupdict()\n",
    "import re\n",
    "data = input()\n",
    "result = re.search(r'([A-Za-z0-9])\\1', data)\n",
    "if result == None:\n",
    "    print(-1)\n",
    "else:\n",
    "    print(result.group(1))"
   ]
  },
  {
   "cell_type": "code",
   "execution_count": 35,
   "id": "d3dd8f6b",
   "metadata": {},
   "outputs": [
    {
     "name": "stdout",
     "output_type": "stream",
     "text": [
      "rabcdeefgyYhFjkIoomnpOeorteeeeet\n",
      "ee\n",
      "Ioo\n",
      "Oeo\n",
      "eeeee\n"
     ]
    }
   ],
   "source": [
    "# 4.Re.findall() & Re.finditer()\n",
    "import re\n",
    "data = input()\n",
    "result = re.findall(r'(?<=[QWRTYPSDFGHJKLZXCVBNMqwrtypsdfghjklzxcvbnm])([AEIOUaeiou]{2,})(?=[QWRTYPSDFGHJKLZXCVBNMqwrtypsdfghjklzxcvbnm])',data)\n",
    "if result:\n",
    "    for i in result:\n",
    "        print(i)\n",
    "else:\n",
    "    print(-1)\n"
   ]
  },
  {
   "cell_type": "code",
   "execution_count": 36,
   "id": "976f292c",
   "metadata": {},
   "outputs": [
    {
     "name": "stdout",
     "output_type": "stream",
     "text": [
      "aaadaa\n",
      "aa\n",
      "(0, 1)\n",
      "(1, 2)\n",
      "(4, 5)\n"
     ]
    }
   ],
   "source": [
    "# 5.Re.start() & Re.end()\n",
    "import re\n",
    "data = input()\n",
    "substring = input()\n",
    "flag = False\n",
    "for i in range(len(data)):\n",
    "    result = re.match(substring, data[i:])\n",
    "    if result != None:\n",
    "        print(( (i + result.start()) , (i + result.end() - 1)))\n",
    "        flag = True\n",
    "if flag == False:\n",
    "    print('(-1, -1)')"
   ]
  },
  {
   "cell_type": "code",
   "execution_count": 38,
   "id": "153d571d",
   "metadata": {},
   "outputs": [
    {
     "name": "stdout",
     "output_type": "stream",
     "text": [
      "11\n",
      "a = 1;\n",
      "a = 1;\n",
      "b = input();\n",
      "b = input();\n",
      "if a + b > 0 && a - b < 0:\n",
      "if a + b > 0 and a - b < 0:\n",
      "    start()\n",
      "    start()\n",
      "elif a*b > 10 || a/b < 1:\n",
      "elif a*b > 10 or a/b < 1:\n",
      "    stop()\n",
      "    stop()\n",
      "print set(list(a)) | set(list(b)) \n",
      "print set(list(a)) | set(list(b)) \n",
      "#Note do not change &&& or ||| or & or |\n",
      "#Note do not change &&& or ||| or & or |\n",
      "#Only change those '&&' which have space on both sides.\n",
      "#Only change those '&&' which have space on both sides.\n",
      "#Only change those '|| which have space on both sides.\n",
      "#Only change those '|| which have space on both sides.\n",
      " \n",
      " \n"
     ]
    }
   ],
   "source": [
    "# 6.Regex Substitution\n",
    "import re\n",
    "n = int(input())\n",
    "for i in range(n):\n",
    "    data = input()\n",
    "    removed_and = re.sub(r'(?<= )(&&)(?= )',\"and\",data)\n",
    "    removed_or = re.sub(r'(?<= )(\\|\\|)(?= )',\"or\",removed_and)\n",
    "    print(removed_or,end='\\n')"
   ]
  },
  {
   "cell_type": "code",
   "execution_count": 39,
   "id": "765fe760",
   "metadata": {},
   "outputs": [
    {
     "name": "stdout",
     "output_type": "stream",
     "text": [
      "CDXXI\n",
      "True\n"
     ]
    }
   ],
   "source": [
    "# 7.Validating Roman Numerals\n",
    "regex_pattern = r\"^M{0,3}(CM|CD|D?C{0,3})(XC|XL|L?X{0,3})(IX|IV|V?I{0,3})$\"\n",
    "\t# Do not delete 'r'.\n",
    "\n",
    "import re\n",
    "print(str(bool(re.match(regex_pattern, input()))))"
   ]
  },
  {
   "cell_type": "code",
   "execution_count": 40,
   "id": "c6d9c040",
   "metadata": {},
   "outputs": [
    {
     "name": "stdout",
     "output_type": "stream",
     "text": [
      "2\n",
      "9587456281\n",
      "YES\n",
      "1252478965\n",
      "NO\n"
     ]
    }
   ],
   "source": [
    "# 8.Validating phone numbers\n",
    "\n",
    "import re\n",
    "condition = re.compile(r'^[7-9]\\d{9}$')\n",
    "n = int(input())\n",
    "for i in range(n):\n",
    "    phone_number = input()\n",
    "    if bool(re.match(condition, phone_number)):\n",
    "        print(\"YES\")\n",
    "    else:\n",
    "        print(\"NO\")"
   ]
  },
  {
   "cell_type": "code",
   "execution_count": 43,
   "id": "53ec521f",
   "metadata": {},
   "outputs": [
    {
     "name": "stdout",
     "output_type": "stream",
     "text": [
      "2\n",
      "DEXTER <dexter@hotmail.com>\n",
      "DEXTER <dexter@hotmail.com>\n",
      "VIRUS <virus!@variable.:p>\n"
     ]
    }
   ],
   "source": [
    "# 9.Validating and Parsing Email Addresses\n",
    "import email.utils, re\n",
    "n = int(input())\n",
    "for i in range(n):\n",
    "    data = input()\n",
    "    parsed = email.utils.parseaddr(data)[1].strip()\n",
    "    ans = bool(re.match(r'(^[A-Za-z][A-Za-z0-9\\._-]+)@([A-Za-z]+)\\.([A-Za-z]{1,3})$',parsed))\n",
    "    if ans == True:\n",
    "        print(data)"
   ]
  },
  {
   "cell_type": "code",
   "execution_count": 1,
   "id": "fa3b7dab",
   "metadata": {},
   "outputs": [
    {
     "name": "stdout",
     "output_type": "stream",
     "text": [
      "11\n",
      "#BED\n",
      "{\n",
      "    color: #FfFdF8; background-color:#aef;\n",
      "#FfFdF8\n",
      "#aef\n",
      "    font-size: 123px;\n",
      "    background: -webkit-linear-gradient(top, #f9f9f9, #fff);\n",
      "#f9f9f9\n",
      "#fff\n",
      "#Cab\n",
      "{\n",
      "    background-color: #ABC;\n",
      "#ABC\n",
      "    border: 2px dashed #fff;\n",
      "#fff\n",
      "}   \n",
      "\n"
     ]
    }
   ],
   "source": [
    "# 10.Hex Color Code\n",
    "\n",
    "import re\n",
    "n = int(input())\n",
    "for i in range(n):\n",
    "    data = input()\n",
    "    ans = re.findall(r'(#[0-9A-Fa-f]{3}|#[0-9A-Fa-f]{6})(?:[;,.)]{1})',data)\n",
    "    for i in ans:\n",
    "        if i != '':\n",
    "            print(i)"
   ]
  },
  {
   "cell_type": "code",
   "execution_count": 3,
   "id": "873e8639",
   "metadata": {},
   "outputs": [
    {
     "name": "stdout",
     "output_type": "stream",
     "text": [
      "2\n",
      "<html><head><title>HTML Parser - I</title></head>\n",
      "<body data-modal-target class='1'><h1>HackerRank</h1><br /></body></html>\n",
      "Start : html\n",
      "Start : head\n",
      "Start : title\n",
      "End   : title\n",
      "End   : head\n",
      "Start : body\n",
      "-> data-modal-target > None\n",
      "-> class > 1\n",
      "Start : h1\n",
      "End   : h1\n",
      "Empty : br\n",
      "End   : body\n",
      "End   : html\n"
     ]
    }
   ],
   "source": [
    "# 11.HTML Parser - Part 1\n",
    "\n",
    "from html.parser import HTMLParser\n",
    "class MyHTMLParser(HTMLParser):\n",
    "    \n",
    "    def handle_attr(self,attrs):\n",
    "        for attr_val_tuple in attrs:\n",
    "            print('->',attr_val_tuple[0],'>',attr_val_tuple[1])\n",
    "\n",
    "    def handle_starttag(self,tag,attrs):\n",
    "        print(\"Start :\",tag)\n",
    "        self.handle_attr(attrs)\n",
    "\n",
    "    def handle_endtag(self,tag):\n",
    "        print(\"End   :\",tag)\n",
    "\n",
    "    def handle_startendtag(self,tag, attrs):\n",
    "        print(\"Empty :\",tag)\n",
    "        self.handle_attr(attrs)\n",
    "\n",
    "parser = MyHTMLParser()\n",
    "n = int(input())\n",
    "data = ''\n",
    "for i in range(n):\n",
    "    data += input()\n",
    "parser.feed(data)"
   ]
  },
  {
   "cell_type": "code",
   "execution_count": 5,
   "id": "d40d3793",
   "metadata": {},
   "outputs": [
    {
     "name": "stdout",
     "output_type": "stream",
     "text": [
      "4\n",
      "<!--[if IE 9]>IE9-specific content\n",
      "<![endif]-->\n",
      "<div> Welcome to HackerRank</div>\n",
      "<!--[if IE 9]>IE9-specific content<![endif]-->\n",
      ">>> Multi-line Comment\n",
      ">>> Data\n",
      " Welcome to HackerRank\n",
      ">>> Single-line Comment\n"
     ]
    }
   ],
   "source": [
    "# 12.HTML Parser - Part 2\n",
    "\n",
    "from html.parser import HTMLParser\n",
    "class MyHTMLParser(HTMLParser):\n",
    "    def handle_comment(self, data):\n",
    "        n_line = len(data.split('\\n'))\n",
    "        if n_line > 1:\n",
    "            print('>>> Multi-line Comment')\n",
    "        else:\n",
    "            print('>>> Single-line Comment')\n",
    "        if data.strip() == True:\n",
    "            print(data)\n",
    "\n",
    "    def handle_data(self, data):\n",
    "        if data.strip():\n",
    "            print(\">>> Data\")\n",
    "            print(data)\n",
    "\n",
    "n = int(input())\n",
    "html = \"\"\n",
    "for i in range(n):\n",
    "    html += input().rstrip()\n",
    "    html += '\\n'\n",
    "    \n",
    "parser = MyHTMLParser()\n",
    "parser.feed(html)\n",
    "parser.close()"
   ]
  },
  {
   "cell_type": "code",
   "execution_count": 6,
   "id": "6f2084cc",
   "metadata": {},
   "outputs": [
    {
     "name": "stdout",
     "output_type": "stream",
     "text": [
      "9\n",
      "<head>\n",
      "<title>HTML</title>\n",
      "</head>\n",
      "<object type=\"application/x-flash\" \n",
      "  data=\"your-file.swf\" \n",
      "  width=\"0\" height=\"0\">\n",
      "  <!-- <param name=\"movie\" value=\"your-file.swf\" /> -->\n",
      "  <param name=\"quality\" value=\"high\"/>\n",
      "</object>\n",
      "head\n",
      "title\n",
      "object\n",
      "-> type > application/x-flash\n",
      "-> data > your-file.swf\n",
      "-> width > 0\n",
      "-> height > 0\n",
      "param\n",
      "-> name > quality\n",
      "-> value > high\n"
     ]
    }
   ],
   "source": [
    "# 13.Detect HTML Tags, Attributes and Attribute Values\n",
    "from html.parser import HTMLParser\n",
    "class CustomHTMLParser(HTMLParser):\n",
    "    def handle_starttag(self,tag,attrs):\n",
    "        print(tag)\n",
    "        self.handle_attrs(attrs)\n",
    "    def handle_startendtag(self,tag,attrs):\n",
    "        print(tag)\n",
    "        self.handle_attrs(attrs)\n",
    "    def handle_attrs(self,attrs):\n",
    "        for attrs_pair in attrs:\n",
    "            print('->',attrs_pair[0].strip(),'>',attrs_pair[1].strip())        \n",
    "\n",
    "n = int(input())\n",
    "html_string = ''\n",
    "for i in range(n):\n",
    "    html_string += input()\n",
    "    \n",
    "customHTMLParser = CustomHTMLParser()\n",
    "customHTMLParser.feed(html_string)\n",
    "customHTMLParser.close()"
   ]
  },
  {
   "cell_type": "code",
   "execution_count": 7,
   "id": "a9c5716c",
   "metadata": {},
   "outputs": [
    {
     "name": "stdout",
     "output_type": "stream",
     "text": [
      "2\n",
      "B1CD102354\n",
      "Invalid\n",
      "B1CDEF2354\n",
      "Valid\n"
     ]
    }
   ],
   "source": [
    "# 14.Validating UID\n",
    "import re\n",
    "upper = r'.*([A-Z].*){2,}'\n",
    "digit = r'.*([0-9].*){3,}'\n",
    "alphanum = r'([A-Za-z0-9]){10}$'\n",
    "n = int(input())\n",
    "repeat = r'.*(.).*\\1'\n",
    "for i in range(n):\n",
    "    uid = input().strip()\n",
    "    upper_res = bool(re.match(upper,uid))\n",
    "    digit_res = bool(re.match(digit,uid))\n",
    "    alphanum_res = bool(re.match(alphanum,uid))\n",
    "    repeat_res = bool(re.match(repeat,uid))    \n",
    "    if upper_res and digit_res and alphanum_res and not repeat_res:\n",
    "        print('Valid')\n",
    "    else:\n",
    "        print('Invalid')"
   ]
  },
  {
   "cell_type": "code",
   "execution_count": 9,
   "id": "86b7f710",
   "metadata": {},
   "outputs": [
    {
     "name": "stdout",
     "output_type": "stream",
     "text": [
      "6\n",
      "4123456789123456\n",
      "Valid\n",
      "5123-4567-8912-3456\n",
      "Valid\n",
      "61234-567-8912-3456\n",
      "Invalid\n",
      "4123356789123456\n",
      "Valid\n",
      "5133-3367-8912-3456\n",
      "Invalid\n",
      "5123 - 3567 - 8912 - 3456\n",
      "Invalid\n"
     ]
    }
   ],
   "source": [
    "# 15.Validating Credit Card Numbers\n",
    "from re import match, findall\n",
    "n = int(input())\n",
    "for i in range(n):\n",
    "    number = input().strip()\n",
    "    number2 = number.replace('-','')\n",
    "    valid = True\n",
    "    length_16 = bool(match(r'^[4-6]\\d{15}$',number))\n",
    "    length_19 = bool(match(r'^[4-6]\\d{3}-\\d{4}-\\d{4}-\\d{4}$',number))    \n",
    "    consecutive = bool(findall(r'(?=(\\d)\\1\\1\\1)',number2))\n",
    "    if length_16 == True or length_19 == True:\n",
    "        if consecutive == True:\n",
    "            valid=False\n",
    "    else:\n",
    "        valid = False       \n",
    "    if valid == True:\n",
    "        print('Valid')\n",
    "    else:\n",
    "        print('Invalid')"
   ]
  },
  {
   "cell_type": "code",
   "execution_count": 10,
   "id": "16ee81e0",
   "metadata": {},
   "outputs": [
    {
     "name": "stdout",
     "output_type": "stream",
     "text": [
      "110000\n",
      "False\n"
     ]
    }
   ],
   "source": [
    "# 16.Validating Postal Codes\n",
    "\n",
    "regex_integer_in_range = r\"^[1-9][0-9]{5}$\"\t# Do not delete 'r'.\n",
    "regex_alternating_repetitive_digit_pair = r\"(?=([0-9])[0-9]\\1)\"\t# Do not delete 'r'.\n",
    "\n",
    "import re\n",
    "P = input()\n",
    "\n",
    "print (bool(re.match(regex_integer_in_range, P)) \n",
    "and len(re.findall(regex_alternating_repetitive_digit_pair, P)) < 2)\n"
   ]
  },
  {
   "cell_type": "code",
   "execution_count": 11,
   "id": "48da5c3f",
   "metadata": {},
   "outputs": [
    {
     "name": "stdout",
     "output_type": "stream",
     "text": [
      "7 3\n",
      "Tsi\n",
      "h%x\n",
      "i #\n",
      "sM \n",
      "$a \n",
      "#t%\n",
      "ir!\n",
      "This is Matrix#  %!\n"
     ]
    }
   ],
   "source": [
    "# 17. Matrix Script\n",
    "import math\n",
    "import os\n",
    "import random\n",
    "import re\n",
    "import sys\n",
    "\n",
    "first_multiple_input = input().rstrip().split()\n",
    "\n",
    "n = int(first_multiple_input[0])\n",
    "\n",
    "m = int(first_multiple_input[1])\n",
    "\n",
    "matrix = [''] * (n*m)\n",
    "\n",
    "for i in range(n):\n",
    "    line = input()\n",
    "    for j in range(m):\n",
    "       matrix[i + (j * n)] = line[j]\n",
    "ans = ''.join(matrix)\n",
    "ans = re.sub(r'(?<=[A-Za-z0-9])([ !@#$%&]+)(?=[A-Za-z0-9])',' ',ans)\n",
    "print(ans)"
   ]
  },
  {
   "cell_type": "markdown",
   "id": "beb04525",
   "metadata": {},
   "source": [
    "## Part 11 : XML"
   ]
  },
  {
   "cell_type": "code",
   "execution_count": null,
   "id": "44db5ee1",
   "metadata": {},
   "outputs": [],
   "source": [
    "# 1.XML 1 - Find the Score\n",
    "\n",
    "import sys\n",
    "import xml.etree.ElementTree as etree\n",
    "\n",
    "\n",
    "def get_attr_number(node):\n",
    "    count = 0\n",
    "    for tag in node:\n",
    "        count += get_attr_number(tag)\n",
    "    return count + len(node.attrib)\n",
    "if __name__ == '__main__':\n",
    "    sys.stdin.readline()\n",
    "    xml = sys.stdin.read()\n",
    "    tree = etree.ElementTree(etree.fromstring(xml))\n",
    "    root = tree.getroot()\n",
    "    print(get_attr_number(root))"
   ]
  },
  {
   "cell_type": "code",
   "execution_count": 21,
   "id": "28118cda",
   "metadata": {},
   "outputs": [
    {
     "name": "stdout",
     "output_type": "stream",
     "text": [
      "6\n",
      "<feed xml:lang='en'>\n",
      "    <title>HackerRank</title>\n",
      "    <subtitle lang='en'>Programming challenges</subtitle>\n",
      "    <link rel='alternate' type='text/html' href='http://hackerrank.com/'/>\n",
      "    <updated>2013-12-25T12:00:00</updated>\n",
      "</feed>\n",
      "1\n"
     ]
    }
   ],
   "source": [
    "# 2.XML2 - Find the Maximum Depth\n",
    "import xml.etree.ElementTree as etree\n",
    "\n",
    "maxdepth = 0\n",
    "def depth(elem, level):\n",
    "    global maxdepth\n",
    "    if (level == maxdepth):\n",
    "        maxdepth += 1\n",
    "    for item in elem:\n",
    "        depth(item, level + 1)\n",
    "\n",
    "if __name__ == '__main__':\n",
    "    n = int(input())\n",
    "    xml = \"\"\n",
    "    for i in range(n):\n",
    "        xml =  xml + input() + \"\\n\"\n",
    "    tree = etree.ElementTree(etree.fromstring(xml))\n",
    "    depth(tree.getroot(), -1)\n",
    "    print(maxdepth)\n"
   ]
  },
  {
   "cell_type": "markdown",
   "id": "00e51d9c",
   "metadata": {},
   "source": [
    "## Part 12 : Closures and Decorations"
   ]
  },
  {
   "cell_type": "code",
   "execution_count": 18,
   "id": "ee38095b",
   "metadata": {},
   "outputs": [],
   "source": [
    "# 1.Standardize Mobile Number Using Decorators\n",
    "def wrapper(f):\n",
    "    def fun(l):\n",
    "        # complete the function\n",
    "        f(['+91 ' + c[-10:-5] + ' ' + c[-5:] for c in l])\n",
    "    return fun\n",
    "\n",
    "@wrapper\n",
    "def sort_phone(l):\n",
    "    print(*sorted(l), sep='\\n')\n",
    "\n",
    "if __name__ == '__main__':\n",
    "    l = [input() for _ in range(int(input()))]\n",
    "    sort_phone(l) \n"
   ]
  },
  {
   "cell_type": "code",
   "execution_count": 23,
   "id": "e1d0ca38",
   "metadata": {},
   "outputs": [
    {
     "name": "stdout",
     "output_type": "stream",
     "text": [
      "3\n",
      "Mike Thomson 20 M\n",
      "Robert Bustle 32 M\n",
      "Andria Bustle 30 F\n",
      "Mr. Mike Thomson\n",
      "Ms. Andria Bustle\n",
      "Mr. Robert Bustle\n"
     ]
    }
   ],
   "source": [
    "# 2.Decorators 2 - Name Directory\n",
    "\n",
    "import operator\n",
    "\n",
    "def person_lister(f):\n",
    "    def inner(people):\n",
    "        # complete the function\n",
    "        return map(f, sorted(people, key=lambda x: int(x[2])))\n",
    "\n",
    "    return inner\n",
    "\n",
    "@person_lister\n",
    "def name_format(person):\n",
    "    return (\"Mr. \" if person[3] == \"M\" else \"Ms. \") + person[0] + \" \" + person[1]\n",
    "\n",
    "if __name__ == '__main__':\n",
    "    people = [input().split() for i in range(int(input()))]\n",
    "    print(*name_format(people), sep='\\n')"
   ]
  },
  {
   "cell_type": "markdown",
   "id": "cef44945",
   "metadata": {},
   "source": [
    "## Part 13 : Numpy"
   ]
  },
  {
   "cell_type": "code",
   "execution_count": 24,
   "id": "84097d4b",
   "metadata": {},
   "outputs": [
    {
     "name": "stdout",
     "output_type": "stream",
     "text": [
      "1 2 3 4 5 6 7 8 9\n",
      "[[1 2 3]\n",
      " [4 5 6]\n",
      " [7 8 9]]\n"
     ]
    }
   ],
   "source": [
    "# 1.Shape and Reshape\n",
    "\n",
    "import numpy as np\n",
    "matrix = np.array(input().split(), dtype = \"i4\")\n",
    "print(matrix.reshape(3,3))"
   ]
  },
  {
   "cell_type": "code",
   "execution_count": 25,
   "id": "a229276b",
   "metadata": {},
   "outputs": [
    {
     "name": "stdout",
     "output_type": "stream",
     "text": [
      "2 2\n",
      "1 2\n",
      "3 4\n",
      "[[1 3]\n",
      " [2 4]]\n",
      "[1 2 3 4]\n"
     ]
    }
   ],
   "source": [
    "# 2.Transpose and Flatten\n",
    "\n",
    "import numpy as np\n",
    "n, m = map(int, input().split())\n",
    "data = np.ones(shape = (n,m), dtype = \"i4\")\n",
    "for i in range(0,n):\n",
    "    data[i] = list(input().split())\n",
    "print(data.transpose())\n",
    "print(data.flatten())"
   ]
  },
  {
   "cell_type": "code",
   "execution_count": 26,
   "id": "cda1b071",
   "metadata": {},
   "outputs": [
    {
     "name": "stdout",
     "output_type": "stream",
     "text": [
      "4 3 2\n",
      "1 2\n",
      "1 2\n",
      "1 2\n",
      "1 2\n",
      "3 4\n",
      "3 4\n",
      "3 4\n",
      "[[1 2]\n",
      " [1 2]\n",
      " [1 2]\n",
      " [1 2]\n",
      " [3 4]\n",
      " [3 4]\n",
      " [3 4]]\n"
     ]
    }
   ],
   "source": [
    "# 3.Concatenate\n",
    "\n",
    "import numpy as np\n",
    "n, m, p = map(int, input().split())\n",
    "first = np.zeros(shape = (n,p), dtype = \"i\")\n",
    "second = np.zeros(shape = (m,p), dtype = \"i\")\n",
    "for i in range(0,n):\n",
    "    first[i] = list(input().split())\n",
    "for i in range(0,m):\n",
    "    second[i] = list(input().split())\n",
    "print(np.concatenate((first, second), axis = 0))"
   ]
  },
  {
   "cell_type": "code",
   "execution_count": 46,
   "id": "8d5a5894",
   "metadata": {},
   "outputs": [
    {
     "name": "stdout",
     "output_type": "stream",
     "text": [
      "1 2 3 4 -8 -10\n",
      "[-10.  -8.   4.   3.   2.   1.]\n"
     ]
    }
   ],
   "source": [
    "# 4.Arrays\n",
    "import numpy as np\n",
    "\n",
    "def arrays(arr):\n",
    "    # complete this function\n",
    "    # use numpy.array\n",
    "    return np.array(arr[::-1], float)\n",
    "\n",
    "arr = input().strip().split(' ')\n",
    "result = arrays(arr)\n",
    "print(result)"
   ]
  },
  {
   "cell_type": "code",
   "execution_count": 51,
   "id": "40481cd1",
   "metadata": {},
   "outputs": [
    {
     "name": "stdout",
     "output_type": "stream",
     "text": [
      "3 2\n",
      "[[0 0]\n",
      " [0 0]\n",
      " [0 0]]\n",
      "[[1 1]\n",
      " [1 1]\n",
      " [1 1]]\n"
     ]
    },
    {
     "name": "stderr",
     "output_type": "stream",
     "text": [
      "C:\\Users\\mehdi\\AppData\\Local\\Temp/ipykernel_15512/1430767518.py:5: DeprecationWarning: `np.int` is a deprecated alias for the builtin `int`. To silence this warning, use `int` by itself. Doing this will not modify any behavior and is safe. When replacing `np.int`, you may wish to use e.g. `np.int64` or `np.int32` to specify the precision. If you wish to review your current use, check the release note link for additional information.\n",
      "Deprecated in NumPy 1.20; for more details and guidance: https://numpy.org/devdocs/release/1.20.0-notes.html#deprecations\n",
      "  print(np.zeros(size, dtype = np.int))\n",
      "C:\\Users\\mehdi\\AppData\\Local\\Temp/ipykernel_15512/1430767518.py:6: DeprecationWarning: `np.int` is a deprecated alias for the builtin `int`. To silence this warning, use `int` by itself. Doing this will not modify any behavior and is safe. When replacing `np.int`, you may wish to use e.g. `np.int64` or `np.int32` to specify the precision. If you wish to review your current use, check the release note link for additional information.\n",
      "Deprecated in NumPy 1.20; for more details and guidance: https://numpy.org/devdocs/release/1.20.0-notes.html#deprecations\n",
      "  print(np.ones(size, dtype = np.int))\n"
     ]
    }
   ],
   "source": [
    "# 5.zeros and Ones\n",
    "\n",
    "import numpy as np\n",
    "size = tuple(map(int, input().split()))\n",
    "print(np.zeros(size, dtype = np.int))\n",
    "print(np.ones(size, dtype = np.int))"
   ]
  },
  {
   "cell_type": "code",
   "execution_count": 54,
   "id": "9eb2f60f",
   "metadata": {},
   "outputs": [
    {
     "name": "stdout",
     "output_type": "stream",
     "text": [
      "3 3\n",
      "[[ 1.  0.  0.]\n",
      " [ 0.  1.  0.]\n",
      " [ 0.  0.  1.]]\n"
     ]
    }
   ],
   "source": [
    "# 6.Eye and Identity\n",
    "import numpy as np\n",
    "np.set_printoptions(legacy = '1.13')\n",
    "N, M = map(int, input().split())\n",
    "print(np.eye(N,M))"
   ]
  },
  {
   "cell_type": "code",
   "execution_count": 69,
   "id": "f16a05b5",
   "metadata": {},
   "outputs": [
    {
     "name": "stdout",
     "output_type": "stream",
     "text": [
      "1 4\n",
      "1 2 3 4\n",
      "5 6 7 8\n",
      "[[ 6  8 10 12]]\n",
      "[[-4 -4 -4 -4]]\n",
      "[[ 5 12 21 32]]\n",
      "[[0 0 0 0]]\n",
      "[[1 2 3 4]]\n",
      "[[    1    64  2187 65536]]\n"
     ]
    }
   ],
   "source": [
    "# 7.Array Mathematics\n",
    "\n",
    "import numpy as np\n",
    "n, m = map(int, input().split())\n",
    "arr_a = []\n",
    "arr_b = []\n",
    "\n",
    "for i in range(n):\n",
    "    a = list(map(int, input().split()))\n",
    "    arr_a.append(a)\n",
    "for i in range(n):\n",
    "    b = list(map(int, input().split()))\n",
    "    arr_b.append(b)\n",
    "arr_a = np.array(arr_a)\n",
    "arr_b = np.array(arr_b)\n",
    "print(arr_a + arr_b)\n",
    "print(arr_a - arr_b)\n",
    "print(arr_a * arr_b)\n",
    "print(arr_a // arr_b)\n",
    "print(arr_a % arr_b)\n",
    "print(arr_a ** arr_b)\n"
   ]
  },
  {
   "cell_type": "code",
   "execution_count": 77,
   "id": "e73325d0",
   "metadata": {},
   "outputs": [
    {
     "name": "stdout",
     "output_type": "stream",
     "text": [
      "1.1 2.2 3.3 4.4 5.5 6.6 7.7 8.8 9.9\n",
      "[ 1.  2.  3.  4.  5.  6.  7.  8.  9.]\n",
      "[  2.   3.   4.   5.   6.   7.   8.   9.  10.]\n",
      "[  1.   2.   3.   4.   6.   7.   8.   9.  10.]\n"
     ]
    }
   ],
   "source": [
    "# 8.Floor, Ceil and Rint\n",
    "import numpy as np\n",
    "np.set_printoptions(legacy='1.13')\n",
    "\n",
    "data = np.array(input().split(), float)\n",
    "print(np.floor(data))\n",
    "print(np.ceil(data))\n",
    "print(np.rint(data))"
   ]
  },
  {
   "cell_type": "code",
   "execution_count": 82,
   "id": "2a7ffb98",
   "metadata": {},
   "outputs": [
    {
     "name": "stdout",
     "output_type": "stream",
     "text": [
      "2 2\n",
      "1 2\n",
      "3 4\n",
      "24\n"
     ]
    }
   ],
   "source": [
    "# 9.Sum and Prod\n",
    "import numpy as np\n",
    "n, m = map(int,input().split())\n",
    "data = []\n",
    "for i in range(n):\n",
    "    temp = list(map(int, input().split()))\n",
    "    data.append(temp)\n",
    "data = np.array(data)\n",
    "print(np.prod((np.sum(data, axis = 0))))"
   ]
  },
  {
   "cell_type": "code",
   "execution_count": 83,
   "id": "22bf8382",
   "metadata": {},
   "outputs": [
    {
     "name": "stdout",
     "output_type": "stream",
     "text": [
      "4 2\n",
      "2 5\n",
      "3 7\n",
      "1 3\n",
      "4 0\n",
      "3\n"
     ]
    }
   ],
   "source": [
    "# 10.Min and Max\n",
    "import numpy as np\n",
    "n, m = map(int,input().split())\n",
    "data = []\n",
    "for i in range(n):\n",
    "    temp = list(map(int, input().split()))\n",
    "    data.append(temp)\n",
    "data = np.array(data)\n",
    "print(np.max((np.min(data, axis = 1))))"
   ]
  },
  {
   "cell_type": "code",
   "execution_count": 95,
   "id": "475fbde6",
   "metadata": {},
   "outputs": [
    {
     "name": "stdout",
     "output_type": "stream",
     "text": [
      "2 2\n",
      "1 2\n",
      "3 4\n",
      "[ 1.5  3.5]\n",
      "[ 1.  1.]\n",
      "1.11803398875\n"
     ]
    }
   ],
   "source": [
    "# 11.Mean, Var, and Std\n",
    "import numpy as np\n",
    "n, m = map(int,input().split())\n",
    "data = []\n",
    "for i in range(n):\n",
    "    temp = list(map(int, input().split()))\n",
    "    data.append(temp)\n",
    "data = np.array(data)\n",
    "print(np.mean(data, axis = 1))\n",
    "print(np.var(data, axis = 0))\n",
    "print(round(np.std(data), 11))"
   ]
  },
  {
   "cell_type": "code",
   "execution_count": 99,
   "id": "a19680ec",
   "metadata": {},
   "outputs": [
    {
     "name": "stdout",
     "output_type": "stream",
     "text": [
      "2\n",
      "1 2\n",
      "3 4\n",
      "1 2\n",
      "3 4\n",
      "[[ 7 10]\n",
      " [15 22]]\n"
     ]
    }
   ],
   "source": [
    "# 12.Dot and Cross\n",
    "import numpy as np\n",
    "n = int(input())\n",
    "A = []\n",
    "for i in range(n):\n",
    "    temp = list(map(int, input().split()))\n",
    "    A.append(temp)\n",
    "B = []\n",
    "for i in range(n):\n",
    "    temp = list(map(int, input().split()))\n",
    "    B.append(temp)\n",
    "\n",
    "print(np.matmul(A,B))"
   ]
  },
  {
   "cell_type": "code",
   "execution_count": 101,
   "id": "d17dee93",
   "metadata": {},
   "outputs": [
    {
     "name": "stdout",
     "output_type": "stream",
     "text": [
      "0 1\n",
      "2 3\n",
      "3\n",
      "[[0 0]\n",
      " [2 3]]\n"
     ]
    }
   ],
   "source": [
    "# 13.Inner and outer\n",
    "import numpy as np\n",
    "A = np.array(input().split(), int)\n",
    "B = np.array(input().split(), int)\n",
    "print(np.inner(A,B))\n",
    "print(np.outer(A,B))\n"
   ]
  },
  {
   "cell_type": "code",
   "execution_count": 102,
   "id": "df23eb9c",
   "metadata": {},
   "outputs": [
    {
     "name": "stdout",
     "output_type": "stream",
     "text": [
      "1.1 2 3\n",
      "0\n",
      "3.0\n"
     ]
    }
   ],
   "source": [
    "# 14.Polynomials\n",
    "import numpy as np\n",
    "coef = list(map(float, input().split()))\n",
    "point = float(input())\n",
    "print(np.polyval(coef, point))"
   ]
  },
  {
   "cell_type": "code",
   "execution_count": 104,
   "id": "e09d082e",
   "metadata": {},
   "outputs": [
    {
     "name": "stdout",
     "output_type": "stream",
     "text": [
      "2\n",
      "1.1 1.1\n",
      "1.1 1.2\n",
      "0.11\n"
     ]
    }
   ],
   "source": [
    "# 15.Linear Algebra\n",
    "import numpy as np\n",
    "n = int(input())\n",
    "a = []\n",
    "for i in range(n):\n",
    "    temp = list(map(float, input().split()))\n",
    "    a. append(temp)\n",
    "print(np.linalg.det(a))\n"
   ]
  },
  {
   "cell_type": "markdown",
   "id": "4a0b66a0",
   "metadata": {},
   "source": [
    "# Problem 2"
   ]
  },
  {
   "cell_type": "code",
   "execution_count": 107,
   "id": "a8660b0c",
   "metadata": {},
   "outputs": [],
   "source": [
    "# 1.Birthday Cake Candles\n",
    "\n",
    "import math\n",
    "import os\n",
    "import random\n",
    "import re\n",
    "import sys\n",
    "\n",
    "#\n",
    "# Complete the 'birthdayCakeCandles' function below.\n",
    "#\n",
    "# The function is expected to return an INTEGER.\n",
    "# The function accepts INTEGER_ARRAY candles as parameter.\n",
    "#\n",
    "\n",
    "def birthdayCakeCandles(candles):\n",
    "    max_size = max(candles)\n",
    "    counter = 0\n",
    "    for candle in candles:\n",
    "        if candle == max_size:\n",
    "            counter += 1\n",
    "    return counter\n",
    "if __name__ == '__main__':\n",
    "    fptr = open(os.environ['OUTPUT_PATH'], 'w')\n",
    "\n",
    "    candles_count = int(input().strip())\n",
    "\n",
    "    candles = list(map(int, input().rstrip().split()))\n",
    "\n",
    "    result = birthdayCakeCandles(candles)\n",
    "\n",
    "    fptr.write(str(result) + '\\n')\n",
    "\n",
    "    fptr.close()\n"
   ]
  },
  {
   "cell_type": "code",
   "execution_count": null,
   "id": "30d79004",
   "metadata": {},
   "outputs": [],
   "source": [
    "# 2. Number Line Jumps\n",
    "\n",
    "import math\n",
    "import os\n",
    "import random\n",
    "import re\n",
    "import sys\n",
    "\n",
    "#\n",
    "# Complete the 'kangaroo' function below.\n",
    "#\n",
    "# The function is expected to return a STRING.\n",
    "# The function accepts following parameters:\n",
    "#  1. INTEGER x1\n",
    "#  2. INTEGER v1\n",
    "#  3. INTEGER x2\n",
    "#  4. INTEGER v2\n",
    "#\n",
    "\n",
    "def kangaroo(x1, v1, x2, v2):\n",
    "    # Write your code here\n",
    "    for n in range(10000):\n",
    "        if(x1 + v1 == x2 + v2):\n",
    "            return \"YES\"\n",
    "        x1 += v1\n",
    "        x2 += v2\n",
    "    return \"NO\"\n",
    "    \n",
    "\n",
    "if __name__ == '__main__':\n",
    "    fptr = open(os.environ['OUTPUT_PATH'], 'w')\n",
    "\n",
    "    first_multiple_input = input().rstrip().split()\n",
    "\n",
    "    x1 = int(first_multiple_input[0])\n",
    "\n",
    "    v1 = int(first_multiple_input[1])\n",
    "\n",
    "    x2 = int(first_multiple_input[2])\n",
    "\n",
    "    v2 = int(first_multiple_input[3])\n",
    "\n",
    "    result = kangaroo(x1, v1, x2, v2)\n",
    "\n",
    "    fptr.write(result + '\\n')\n",
    "\n",
    "    fptr.close()\n",
    "\n"
   ]
  },
  {
   "cell_type": "code",
   "execution_count": null,
   "id": "70b33242",
   "metadata": {},
   "outputs": [],
   "source": [
    "# 3.Viral Advertising\n",
    "\n",
    "import math\n",
    "import os\n",
    "import random\n",
    "import re\n",
    "import sys\n",
    "\n",
    "# Complete the viralAdvertising function below.\n",
    "def viralAdvertising(n):\n",
    "    shared = 5\n",
    "    ans = 0\n",
    "    for i in range(1, n + 1):\n",
    "        liked = shared // 2\n",
    "        ans += liked\n",
    "        shared = liked * 3\n",
    "    return ans\n",
    "\n",
    "if __name__ == '__main__':\n",
    "    fptr = open(os.environ['OUTPUT_PATH'], 'w')\n",
    "\n",
    "    n = int(input())\n",
    "\n",
    "    result = viralAdvertising(n)\n",
    "\n",
    "    fptr.write(str(result) + '\\n')\n",
    "\n",
    "    fptr.close()"
   ]
  },
  {
   "cell_type": "code",
   "execution_count": null,
   "id": "9a44af2a",
   "metadata": {},
   "outputs": [],
   "source": [
    "# 4.Recursive Digit Sum\n",
    "import math\n",
    "import os\n",
    "import random\n",
    "import re\n",
    "import sys\n",
    "\n",
    "#\n",
    "# Complete the 'superDigit' function below.\n",
    "#\n",
    "# The function is expected to return an INTEGER.\n",
    "# The function accepts following parameters:\n",
    "#  1. STRING n\n",
    "#  2. INTEGER k\n",
    "#\n",
    "\n",
    "def superDigit(n):\n",
    "    if len(n) == 1:\n",
    "        return int(n)\n",
    "    else:\n",
    "        temp = str(sum([int(x) for x in n]))\n",
    "        return superDigit(temp)\n",
    "def digitSum(number, k):\n",
    "    temp = str(k*sum([int(x) for x in number]))\n",
    "    return superDigit(temp)        \n",
    "if __name__ == '__main__':\n",
    "    fptr = open(os.environ['OUTPUT_PATH'], 'w')\n",
    "\n",
    "    first_multiple_input = input().rstrip().split()\n",
    "\n",
    "    n = first_multiple_input[0]\n",
    "\n",
    "    k = int(first_multiple_input[1])\n",
    "\n",
    "    result = digitSum(n, k)\n",
    "\n",
    "    fptr.write(str(result) + '\\n')\n",
    "\n",
    "    fptr.close()"
   ]
  },
  {
   "cell_type": "code",
   "execution_count": null,
   "id": "428dc66b",
   "metadata": {},
   "outputs": [],
   "source": [
    "# 5.Insertion Sort - Part 1\n",
    "\n",
    "import math\n",
    "import os\n",
    "import random\n",
    "import re\n",
    "import sys\n",
    "\n",
    "#\n",
    "# Complete the 'insertionSort1' function below.\n",
    "#\n",
    "# The function accepts following parameters:\n",
    "#  1. INTEGER n\n",
    "#  2. INTEGER_ARRAY arr\n",
    "#\n",
    "\n",
    "def insertionSort1(n, arr):\n",
    "    # Write your code here\n",
    "    probe = arr[-1]\n",
    "    \n",
    "    for ind in range(len(arr)-2, -1, -1):\n",
    "        if arr[ind] > probe:\n",
    "            arr[ind+1] = arr[ind]\n",
    "            print(\" \".join(map(str, arr)))\n",
    "        else:\n",
    "            arr[ind+1] = probe\n",
    "            print(\" \".join(map(str, arr)))\n",
    "            break\n",
    "    if arr[0] > probe:\n",
    "        arr[0] = probe\n",
    "        print(\" \".join(map(str, arr)))\n",
    "\n",
    "if __name__ == '__main__':\n",
    "    n = int(input().strip())\n",
    "\n",
    "    arr = list(map(int, input().rstrip().split()))\n",
    "\n",
    "    insertionSort1(n, arr)\n"
   ]
  },
  {
   "cell_type": "code",
   "execution_count": null,
   "id": "24a19104",
   "metadata": {},
   "outputs": [],
   "source": [
    "# 6.Insertion Sort - Part 2\n",
    "\n",
    "\n",
    "import math\n",
    "import os\n",
    "import random\n",
    "import re\n",
    "import sys\n",
    "\n",
    "#\n",
    "# Complete the 'insertionSort2' function below.\n",
    "#\n",
    "# The function accepts following parameters:\n",
    "#  1. INTEGER n\n",
    "#  2. INTEGER_ARRAY arr\n",
    "#\n",
    "def insertionSort1(start, arr):\n",
    "    probe = arr[start]\n",
    "    \n",
    "    for ind in range(start-1, -1, -1):\n",
    "        if arr[ind] > probe:\n",
    "            arr[ind+1] = arr[ind]\n",
    "        else:\n",
    "            arr[ind+1] = probe\n",
    "            break\n",
    "    if arr[0] > probe:\n",
    "        arr[0] = probe\n",
    "\n",
    "def insertionSort2(n, arr):\n",
    "    for ind in range(1, len(arr)):\n",
    "        insertionSort1(ind, arr)\n",
    "        print(\" \".join(map(str, arr)))\n",
    "\n",
    "if __name__ == '__main__':\n",
    "    n = int(input().strip())\n",
    "\n",
    "    arr = list(map(int, input().rstrip().split()))\n",
    "\n",
    "    insertionSort2(n, arr)\n",
    "\n"
   ]
  },
  {
   "cell_type": "markdown",
   "id": "258839e0",
   "metadata": {},
   "source": [
    "### All 98 problems solved and submitted to the hackkerrank."
   ]
  }
 ],
 "metadata": {
  "kernelspec": {
   "display_name": "Python 3 (ipykernel)",
   "language": "python",
   "name": "python3"
  },
  "language_info": {
   "codemirror_mode": {
    "name": "ipython",
    "version": 3
   },
   "file_extension": ".py",
   "mimetype": "text/x-python",
   "name": "python",
   "nbconvert_exporter": "python",
   "pygments_lexer": "ipython3",
   "version": "3.9.6"
  }
 },
 "nbformat": 4,
 "nbformat_minor": 5
}
